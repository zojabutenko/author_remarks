{
  "cells": [
    {
      "cell_type": "markdown",
      "metadata": {
        "id": "xGwrxHV5IZ1k"
      },
      "source": [
        "# Тетрадка со сбором данных"
      ]
    },
    {
      "cell_type": "code",
      "execution_count": null,
      "metadata": {
        "colab": {
          "base_uri": "https://localhost:8080/"
        },
        "id": "dQbAQNLUOWcs",
        "outputId": "dadeeec7-1d35-4069-aa33-c342d5e87c12"
      },
      "outputs": [
        {
          "output_type": "stream",
          "name": "stdout",
          "text": [
            "Drive already mounted at /content/drive; to attempt to forcibly remount, call drive.mount(\"/content/drive\", force_remount=True).\n"
          ]
        }
      ],
      "source": [
        "from google.colab import drive\n",
        "drive.mount('/content/drive')"
      ]
    },
    {
      "cell_type": "markdown",
      "source": [
        "Getting the proza corpus from the archive"
      ],
      "metadata": {
        "id": "k_yvzFwiPp3i"
      }
    },
    {
      "cell_type": "code",
      "execution_count": null,
      "metadata": {
        "id": "tN6kxChMOkLn"
      },
      "outputs": [],
      "source": [
        "corpus_path = '/content/drive/MyDrive/proza_ru.tar.gz'"
      ]
    },
    {
      "cell_type": "code",
      "source": [
        "! tar -zxf /content/drive/MyDrive/proza_ru.tar.gz --directory /content/drive/MyDrive/kursovaya2022/corpora/proza_ru"
      ],
      "metadata": {
        "id": "JhNoXHeo5A_h"
      },
      "execution_count": null,
      "outputs": []
    },
    {
      "cell_type": "code",
      "execution_count": null,
      "metadata": {
        "id": "fP7qiMq7QG88",
        "colab": {
          "base_uri": "https://localhost:8080/"
        },
        "outputId": "ca1a0894-4911-4af7-b130-4f8c12cc7f63"
      },
      "outputs": [
        {
          "output_type": "stream",
          "name": "stdout",
          "text": [
            "20171121034.txt  20171121732.txt\n"
          ]
        }
      ],
      "source": [
        "! ls /content/home/tsha/proza_ru/texts/2017/11"
      ]
    },
    {
      "cell_type": "code",
      "execution_count": null,
      "metadata": {
        "id": "OX0dYz73QN4v"
      },
      "outputs": [],
      "source": [
        "! cp -R /content/home/tsha/proza_ru/texts/2017/11 /content/drive/MyDrive/kursovaya2022/"
      ]
    },
    {
      "cell_type": "code",
      "execution_count": null,
      "metadata": {
        "colab": {
          "base_uri": "https://localhost:8080/"
        },
        "id": "ScHyPKJHReGV",
        "outputId": "ff148b40-1b82-47a7-c08d-bc9d19f65649"
      },
      "outputs": [
        {
          "output_type": "stream",
          "name": "stdout",
          "text": [
            "^C\n"
          ]
        }
      ],
      "source": [
        "! sudo du -sh /content/drive/MyDrive/kursovaya2022/"
      ]
    },
    {
      "cell_type": "code",
      "source": [
        "%cd /content/drive/MyDrive/kursovaya2022/"
      ],
      "metadata": {
        "colab": {
          "base_uri": "https://localhost:8080/"
        },
        "id": "oW_9ZHY348oO",
        "outputId": "f4b5be2f-4517-4033-ab00-0f8f386f94fb"
      },
      "execution_count": null,
      "outputs": [
        {
          "output_type": "stream",
          "name": "stdout",
          "text": [
            "/content/drive/MyDrive/kursovaya2022\n"
          ]
        }
      ]
    },
    {
      "cell_type": "code",
      "source": [
        "%cd 11"
      ],
      "metadata": {
        "colab": {
          "base_uri": "https://localhost:8080/"
        },
        "id": "rm3Zba034-pT",
        "outputId": "fb8ef7e2-1d0b-43c1-c0c7-038f27d1a748"
      },
      "execution_count": null,
      "outputs": [
        {
          "output_type": "stream",
          "name": "stdout",
          "text": [
            "/content/drive/MyDrive/kursovaya2022/11\n"
          ]
        }
      ]
    },
    {
      "cell_type": "markdown",
      "metadata": {
        "id": "aYTs0XL5IgnP"
      },
      "source": [
        "# preprocessing"
      ]
    },
    {
      "cell_type": "code",
      "source": [
        "!pip install pymorphy2"
      ],
      "metadata": {
        "colab": {
          "base_uri": "https://localhost:8080/"
        },
        "id": "Cj1oo3Un5Q_E",
        "outputId": "9891626b-77b8-44b7-e19f-615c94b44adc"
      },
      "execution_count": null,
      "outputs": [
        {
          "output_type": "stream",
          "name": "stdout",
          "text": [
            "Looking in indexes: https://pypi.org/simple, https://us-python.pkg.dev/colab-wheels/public/simple/\n",
            "Requirement already satisfied: pymorphy2 in /usr/local/lib/python3.7/dist-packages (0.9.1)\n",
            "Requirement already satisfied: dawg-python>=0.7.1 in /usr/local/lib/python3.7/dist-packages (from pymorphy2) (0.7.2)\n",
            "Requirement already satisfied: docopt>=0.6 in /usr/local/lib/python3.7/dist-packages (from pymorphy2) (0.6.2)\n",
            "Requirement already satisfied: pymorphy2-dicts-ru<3.0,>=2.4 in /usr/local/lib/python3.7/dist-packages (from pymorphy2) (2.4.417127.4579844)\n"
          ]
        }
      ]
    },
    {
      "cell_type": "code",
      "source": [
        "from abc import abstractmethod\n",
        "import csv\n",
        "import os\n",
        "from bs4 import BeautifulSoup\n",
        "import re\n",
        "from nltk.tokenize import word_tokenize\n",
        "import pymorphy2\n",
        "from tqdm import tqdm\n",
        "import nltk\n",
        "nltk.download('punkt')\n",
        "\n",
        "morph = pymorphy2.MorphAnalyzer()"
      ],
      "metadata": {
        "colab": {
          "base_uri": "https://localhost:8080/"
        },
        "id": "Nri18X9M28Va",
        "outputId": "125bf385-43f1-4583-8f67-4b6c7ae134f7"
      },
      "execution_count": null,
      "outputs": [
        {
          "output_type": "stream",
          "name": "stderr",
          "text": [
            "[nltk_data] Downloading package punkt to /root/nltk_data...\n",
            "[nltk_data]   Package punkt is already up-to-date!\n"
          ]
        }
      ]
    },
    {
      "cell_type": "code",
      "source": [
        "dirs = os.listdir('/content/drive/MyDrive/kursovaya2022/corpora/proza_ru/home/tsha/proza_ru/texts/2017')"
      ],
      "metadata": {
        "id": "GTOlFyVdCSKR"
      },
      "execution_count": null,
      "outputs": []
    },
    {
      "cell_type": "code",
      "source": [
        "files = []\n",
        "for d in dirs:\n",
        "  d = '/content/drive/MyDrive/kursovaya2022/corpora/proza_ru/home/tsha/proza_ru/texts/2017/' + d\n",
        "  for f in os.listdir(d):\n",
        "    files.append(d + '/' + f)"
      ],
      "metadata": {
        "id": "NQ6aVY64CVbP"
      },
      "execution_count": null,
      "outputs": []
    },
    {
      "cell_type": "code",
      "source": [
        "len(files)"
      ],
      "metadata": {
        "colab": {
          "base_uri": "https://localhost:8080/"
        },
        "id": "Smr2lsdQPQ-q",
        "outputId": "dacceda3-8c6b-47a4-bf2d-c618a3a7de7b"
      },
      "execution_count": null,
      "outputs": [
        {
          "output_type": "execute_result",
          "data": {
            "text/plain": [
              "116269"
            ]
          },
          "metadata": {},
          "execution_count": 6
        }
      ]
    },
    {
      "cell_type": "markdown",
      "source": [
        "preprocessing using code by hseling-api-direct-speech:"
      ],
      "metadata": {
        "id": "JoNSxTz-2muw"
      }
    },
    {
      "cell_type": "markdown",
      "source": [
        "Defining the parser that extracts direct speech (code from https://github.com/hseling/hseling-api-direct-speech)"
      ],
      "metadata": {
        "id": "c3-sfC_9PvBL"
      }
    },
    {
      "cell_type": "code",
      "source": [
        "# step.py\n",
        "\n",
        "class PipelineStep:\n",
        "    def __init__(self):\n",
        "        pass\n",
        "\n",
        "    @abstractmethod\n",
        "    def annotate(self, text):\n",
        "        pass\n",
        "\n",
        "    def make_dict(self, list_of_inside_tag_strings, fucntion):\n",
        "        dictionary = {string: fucntion(string)\n",
        "                      for string in list_of_inside_tag_strings}\n",
        "        return dictionary\n",
        "\n",
        "    def read_csv(self, path, sep):\n",
        "        # template = os.path.join(os.path.abspath(\n",
        "        #     os.path.dirname(os.path.dirname(__file__))), path)\n",
        "        return csv.reader(open(path, \"r\", encoding=\"utf-8\"), delimiter=sep)\n",
        "\n",
        "    def read_dict_csv(self, path, sep):\n",
        "        # template = os.path.join(os.path.abspath(\n",
        "        #     os.path.dirname(os.path.dirname(__file__))), path)\n",
        "        reader = csv.DictReader(open(path, \"r\", encoding='utf-8-sig'),\n",
        "                                delimiter=sep)\n",
        "        return list(reader)\n",
        "\n",
        "    def read_xml(self, text):\n",
        "        return BeautifulSoup('<text>' + text + '</text>', \"lxml\")\n"
      ],
      "metadata": {
        "id": "fuBW1dTM37jP"
      },
      "execution_count": null,
      "outputs": []
    },
    {
      "cell_type": "code",
      "source": [
        "# quotes_processing.py\n",
        "\n",
        "class QuotesAdapter(PipelineStep):\n",
        "    QUOTES_OPEN = '«'\n",
        "    QUOTES_CLOSE = '»'\n",
        "    SPECIFIC_QUOTES_OPEN = '„“‘„'\n",
        "    SPECIFIC_QUOTES_CLOSE = '“”’”'\n",
        "\n",
        "    def __init__(self, path):\n",
        "        super().__init__()\n",
        "        self.__rule_df = self.read_csv(path, ';')\n",
        "\n",
        "    def annotate(self, text):\n",
        "        text = self.__replace_specific_quotes(text)\n",
        "        return self.__process(text)\n",
        "\n",
        "    def __replace_specific_quotes(self, text):\n",
        "        text = text.replace(self.SPECIFIC_QUOTES_OPEN, self.QUOTES_OPEN)\n",
        "        text = text.replace(self.SPECIFIC_QUOTES_CLOSE, self.QUOTES_CLOSE)\n",
        "        return text\n",
        "\n",
        "    def __process(self, text):\n",
        "        for ind in self.__rule_df:\n",
        "            rule = ind[0]\n",
        "            quote = ind[1]\n",
        "            text = self.__replace_quotes(rule, quote, text)\n",
        "        return text\n",
        "\n",
        "    def __replace_quotes(self, rule, result_quote, text):\n",
        "        try:\n",
        "            text = re.sub(rule, result_quote, text)\n",
        "        except Exception as e:\n",
        "            print(e)\n",
        "            print(rule, \"=\" * 3, \"ERROR IN REG EXP\")\n",
        "        return text\n"
      ],
      "metadata": {
        "id": "Ayp_Aj1H2kcd"
      },
      "execution_count": null,
      "outputs": []
    },
    {
      "cell_type": "code",
      "source": [
        "# speech_detector.py\n",
        "\n",
        "class SpeechDetector(PipelineStep):\n",
        "    def __init__(self, path):\n",
        "        super().__init__()\n",
        "        self.rule_df = self.read_csv(path, ';')\n",
        "\n",
        "    def annotate(self, text):\n",
        "        for left, speech, right in self.rule_df:\n",
        "            text = self.__find_speech(left, speech, right, text)\n",
        "            text = re.sub('(<speech>)+', '<speech>', text)\n",
        "            text = re.sub('(</speech>)+', '</speech>', text)\n",
        "        return text\n",
        "\n",
        "    def __compute_regex(self, left_context, speech, right_context):\n",
        "        try:\n",
        "            regex = re.compile(\"(\" + left_context + \")\" + \"(\" + speech + \")\" +\n",
        "                               \"(\" + right_context + \")\",\n",
        "                               flags=re.MULTILINE)\n",
        "            return regex\n",
        "        except Exception:\n",
        "            print(\"EXCEPTION IN REG EXP:\", left_context, speech, right_context)\n",
        "            return \"EXCEPTION IN REG EXP\"\n",
        "\n",
        "    def __find_speech(self, left_context, speech, right_context, text):\n",
        "        rule = self.__compute_regex(left_context, speech, right_context)\n",
        "        text = re.sub(rule, r\"\\g<1><speech>\\g<2></speech>\\g<3>\", text)\n",
        "        return text\n"
      ],
      "metadata": {
        "id": "BqzWQIPR26Gz"
      },
      "execution_count": null,
      "outputs": []
    },
    {
      "cell_type": "code",
      "source": [
        "# file_reader.py\n",
        "\n",
        "class FileReader(PipelineStep):\n",
        "\n",
        "    def __init__(self):\n",
        "        super().__init__()\n",
        "\n",
        "    def annotate(self, text):\n",
        "        return self.__delete_newlines(text)\n",
        "\n",
        "    def __delete_newlines(self, text):\n",
        "        text1 = re.sub(r' +', ' ', text)\n",
        "        text2 = re.sub(r'\\n(?P<cap> [а-яё])', r'\\g<cap>', text1)\n",
        "        text3 = re.sub(r'(?P<punc>[^!\\?\\.\\:])\\n', r'\\g<punc>', text2)\n",
        "        text4 = re.sub(r'[  ]+', ' ', text3)\n",
        "        return text4\n"
      ],
      "metadata": {
        "id": "i1tb12H03EHw"
      },
      "execution_count": null,
      "outputs": []
    },
    {
      "cell_type": "code",
      "source": [
        "# verb_tagger.py\n",
        "\n",
        "class VerbTagger(PipelineStep):\n",
        "    COMMENT = r'<author_comment>(.+?)</author_comment>'\n",
        "\n",
        "    def __init__(self, path):\n",
        "        super().__init__()\n",
        "        self.__df_verbs = self.read_dict_csv(path, sep=';')\n",
        "\n",
        "    def __make_new_comments(self, string):\n",
        "        for word in word_tokenize(string):\n",
        "            lemma = morph.parse(word)[0].normal_form\n",
        "            regex = re.compile(r'((?<=[ \\.:<>!-,])|^)' + '(' +\n",
        "                               re.escape(word) + ')' + r'((?=[ \\.:<>!-,]))')\n",
        "            for line in self.__df_verbs:\n",
        "                if lemma == line[\"verb\"]:\n",
        "                    string = re.sub(regex, '<speech_verb ' + 'semantic=\"' +\n",
        "                                    str(line['semantic']) + '\" emotion=\"' +\n",
        "                                    str(line['emotion']) + '\">' + word +\n",
        "                                    '</speech_verb>', string)\n",
        "        return string\n",
        "\n",
        "    def __find_comments(self, text):\n",
        "        comments = re.findall(self.COMMENT, text)\n",
        "        return comments\n",
        "\n",
        "    def annotate(self, text):\n",
        "        comments = self.__find_comments(text)\n",
        "        dictionary = self.make_dict(comments, self.__make_new_comments)\n",
        "        for key in dictionary:\n",
        "            try:\n",
        "                text = re.sub(re.escape(key), dictionary[key], text)\n",
        "            except:\n",
        "              print('err')\n",
        "        text = re.sub(r'(?P<verb><speech_verb.+?>)+', r'\\g<verb>', text)\n",
        "        text = re.sub('(</speech_verb>)+', '</speech_verb>', text)\n",
        "        return text\n"
      ],
      "metadata": {
        "id": "7JwOCG8H3LrV"
      },
      "execution_count": null,
      "outputs": []
    },
    {
      "cell_type": "code",
      "source": [
        "# pipeline.py\n",
        "\n",
        "class Pipeline:\n",
        "    def __init__(self, *args):\n",
        "        self.__steps = list(args)\n",
        "\n",
        "    def apply_to(self, text):\n",
        "        for step in self.__steps:\n",
        "            text = step.annotate(text)\n",
        "        return text\n",
        "\n",
        "    def add_step(self, step):\n",
        "        self.__steps.append(step)\n"
      ],
      "metadata": {
        "id": "U5NjZngm3SCA"
      },
      "execution_count": null,
      "outputs": []
    },
    {
      "cell_type": "code",
      "source": [
        "# said_comment_tagger\n",
        "\n",
        "\n",
        "class SaidCommentTagger(PipelineStep):\n",
        "    SEPARATOR = r'»,?[ \\u00A0][—–-]{1,2}[ \\u00A0]|[.,!?…]' \\\n",
        "                r'[ \\u00A0][—–-]{1,2}[ \\u00A0]|:[ \\u00A0]\\n?«|' \\\n",
        "                r':[ \\u00A0\\n][—–-]{1,2}[ \\u00A0]|»,[ \\u00A0]'\n",
        "    FIRST_IN_SAID = '-–—−«'\n",
        "    SPEECH = r'<speech>(.+?)</speech>'\n",
        "    SAID = \"said\"\n",
        "    AUTHOR_COMMENT = \"author_comment\"\n",
        "\n",
        "    def __init__(self):\n",
        "        super().__init__()\n",
        "\n",
        "    def __said_comment(self, string):\n",
        "        lst = re.split(\"(\" + self.SEPARATOR + \")\", string)\n",
        "        annotation_result_list = []\n",
        "        if lst[0]:\n",
        "            order = self.__define_order(lst[0][0])\n",
        "            for index, st in enumerate(lst):\n",
        "                tag = order[index % 3]['start']\n",
        "                if tag == \"<said>\":\n",
        "                    tag = tag.replace(\"<said>\",\n",
        "                                      \"<said aloud='True' \"\n",
        "                                      \"type='direct'>\")\n",
        "                st_with_tag = tag + str(st) + order[index % 3]['end']\n",
        "                annotation_result_list.append(st_with_tag)\n",
        "        else:\n",
        "            pass\n",
        "        return \"\".join(annotation_result_list)\n",
        "\n",
        "    def __define_order(self, first_symbol):\n",
        "        if first_symbol in self.FIRST_IN_SAID:\n",
        "            return [{\"start\": '<{}>'.format(self.SAID),\n",
        "                     \"end\": '</{}>'.format(self.SAID)},\n",
        "                    {\"start\": '',\n",
        "                     \"end\": ''},\n",
        "                    {\"start\": '<{}>'.format(self.AUTHOR_COMMENT),\n",
        "                     \"end\": '</{}>'.format(self.AUTHOR_COMMENT)}]\n",
        "        else:\n",
        "            return [{\"start\": '<{}>'.format(self.AUTHOR_COMMENT),\n",
        "                     \"end\": '</{}>'.format(self.AUTHOR_COMMENT)},\n",
        "                    {\"start\": '',\n",
        "                     \"end\": ''},\n",
        "                    {\"start\": '<{}>'.format(self.SAID),\n",
        "                     \"end\": '</{}>'.format(self.SAID)}]\n",
        "\n",
        "    def __get_speech(self, text):\n",
        "        lst = re.findall(self.SPEECH, text)\n",
        "        return lst\n",
        "\n",
        "    def annotate(self, text):\n",
        "        speech_list = self.__get_speech(text)\n",
        "        dictionary = self.make_dict(speech_list, self.__said_comment)\n",
        "        for key in dictionary:\n",
        "            try:\n",
        "                text = re.sub(re.escape(key), dictionary[key], text)\n",
        "            except:\n",
        "              print('err')\n",
        "        return text\n"
      ],
      "metadata": {
        "id": "-CrTd8-R3ZYM"
      },
      "execution_count": null,
      "outputs": []
    },
    {
      "cell_type": "markdown",
      "source": [
        "Check if direct speech was found in the file"
      ],
      "metadata": {
        "id": "0BjT0mn5P5Ln"
      }
    },
    {
      "cell_type": "code",
      "source": [
        "def check_if_speech(text):\n",
        "  res = re.search('<speech>', text)\n",
        "  if res:\n",
        "    return text\n",
        "  else:\n",
        "    return None"
      ],
      "metadata": {
        "id": "tlE50Tzf-OGC"
      },
      "execution_count": null,
      "outputs": []
    },
    {
      "cell_type": "code",
      "source": [
        "def process_data(text):\n",
        "    file_id = None\n",
        "    result = \"\"\n",
        "    reader = FileReader()\n",
        "    quotes_adapter = QuotesAdapter(\"/content/drive/MyDrive/kursovaya2022/hseling-api-direct-speech/quotes.csv\")\n",
        "    speech_detector = SpeechDetector(\"/content/drive/MyDrive/kursovaya2022/hseling-api-direct-speech/speech.csv\")\n",
        "    said_comment_tagger = SaidCommentTagger()\n",
        "    verb_tagger = VerbTagger(\"/content/drive/MyDrive/kursovaya2022/hseling-api-direct-speech/verbs.csv\")\n",
        "    pipeline = Pipeline(reader, quotes_adapter, speech_detector,\n",
        "                        said_comment_tagger, verb_tagger)\n",
        "    result = pipeline.apply_to(text)\n",
        "    result = check_if_speech(result)\n",
        "    if result:\n",
        "        speech = re.findall('<speech>(.+?)</speech>', result)\n",
        "        for s in speech:\n",
        "          said = re.findall('<said.+?>(.+?)</said>', s)\n",
        "          auth = re.findall('<author_comment>(.+?)</author_comment>', s)\n",
        "          vrb = re.findall('<speech_verb.+?>(.+?)</speech_verb>', s)\n",
        "          if len(said) == len(auth) == len(vrb):\n",
        "            return result\n"
      ],
      "metadata": {
        "id": "VJJCnc7R3fjD"
      },
      "execution_count": null,
      "outputs": []
    },
    {
      "cell_type": "code",
      "source": [
        "def get_data(filepath):\n",
        "  with open(filepath, 'r', encoding='utf-8') as file:\n",
        "    try:\n",
        "      text = file.read()\n",
        "      return text\n",
        "    except UnicodeDecodeError as err:\n",
        "      print(err)\n",
        "      return ''"
      ],
      "metadata": {
        "id": "WMLk_5ME_T92"
      },
      "execution_count": null,
      "outputs": []
    },
    {
      "cell_type": "code",
      "source": [
        "%cd /content/drive/MyDrive/kursovaya2022/hseling-api-direct-speech"
      ],
      "metadata": {
        "colab": {
          "base_uri": "https://localhost:8080/"
        },
        "id": "EkU85L27C9VN",
        "outputId": "491f6aa7-56b2-4de6-9321-26b6d39b7367"
      },
      "execution_count": null,
      "outputs": [
        {
          "output_type": "stream",
          "name": "stdout",
          "text": [
            "/content/drive/MyDrive/kursovaya2022/hseling-api-direct-speech\n"
          ]
        }
      ]
    },
    {
      "cell_type": "code",
      "source": [
        "# corpus = []\n",
        "with open('/content/drive/MyDrive/kursovaya2022/hseling-api-direct-speech/2017_results.txt', 'a', encoding='utf-8') as file:\n",
        "  for f in tqdm(range(39253, len(files))):\n",
        "    text = get_data(files[f])\n",
        "    # corpus.append(process_data(text))\n",
        "    out = process_data(text)\n",
        "    if out:\n",
        "      file.write(out)\n",
        "      file.write('\\n=====\\n')\n"
      ],
      "metadata": {
        "colab": {
          "base_uri": "https://localhost:8080/",
          "height": 433
        },
        "id": "vXea9_hl-HB6",
        "outputId": "1ed3b5ff-eb51-4067-de05-edc379ab322d"
      },
      "execution_count": null,
      "outputs": [
        {
          "output_type": "stream",
          "name": "stderr",
          "text": [
            " 26%|██▋       | 20288/77016 [1:58:25<5:14:10,  3.01it/s]"
          ]
        },
        {
          "output_type": "stream",
          "name": "stdout",
          "text": [
            "err\n"
          ]
        },
        {
          "output_type": "stream",
          "name": "stderr",
          "text": [
            " 42%|████▏     | 32118/77016 [3:04:23<4:17:45,  2.90it/s]\n"
          ]
        },
        {
          "output_type": "error",
          "ename": "KeyboardInterrupt",
          "evalue": "ignored",
          "traceback": [
            "\u001b[0;31m---------------------------------------------------------------------------\u001b[0m",
            "\u001b[0;31mKeyboardInterrupt\u001b[0m                         Traceback (most recent call last)",
            "\u001b[0;32m<ipython-input-18-a18732e4c2df>\u001b[0m in \u001b[0;36m<module>\u001b[0;34m\u001b[0m\n\u001b[1;32m      2\u001b[0m \u001b[0;32mwith\u001b[0m \u001b[0mopen\u001b[0m\u001b[0;34m(\u001b[0m\u001b[0;34m'/content/drive/MyDrive/kursovaya2022/hseling-api-direct-speech/2017_results.txt'\u001b[0m\u001b[0;34m,\u001b[0m \u001b[0;34m'a'\u001b[0m\u001b[0;34m,\u001b[0m \u001b[0mencoding\u001b[0m\u001b[0;34m=\u001b[0m\u001b[0;34m'utf-8'\u001b[0m\u001b[0;34m)\u001b[0m \u001b[0;32mas\u001b[0m \u001b[0mfile\u001b[0m\u001b[0;34m:\u001b[0m\u001b[0;34m\u001b[0m\u001b[0;34m\u001b[0m\u001b[0m\n\u001b[1;32m      3\u001b[0m   \u001b[0;32mfor\u001b[0m \u001b[0mf\u001b[0m \u001b[0;32min\u001b[0m \u001b[0mtqdm\u001b[0m\u001b[0;34m(\u001b[0m\u001b[0mrange\u001b[0m\u001b[0;34m(\u001b[0m\u001b[0;36m39253\u001b[0m\u001b[0;34m,\u001b[0m \u001b[0mlen\u001b[0m\u001b[0;34m(\u001b[0m\u001b[0mfiles\u001b[0m\u001b[0;34m)\u001b[0m\u001b[0;34m)\u001b[0m\u001b[0;34m)\u001b[0m\u001b[0;34m:\u001b[0m\u001b[0;34m\u001b[0m\u001b[0;34m\u001b[0m\u001b[0m\n\u001b[0;32m----> 4\u001b[0;31m     \u001b[0mtext\u001b[0m \u001b[0;34m=\u001b[0m \u001b[0mget_data\u001b[0m\u001b[0;34m(\u001b[0m\u001b[0mfiles\u001b[0m\u001b[0;34m[\u001b[0m\u001b[0mf\u001b[0m\u001b[0;34m]\u001b[0m\u001b[0;34m)\u001b[0m\u001b[0;34m\u001b[0m\u001b[0;34m\u001b[0m\u001b[0m\n\u001b[0m\u001b[1;32m      5\u001b[0m     \u001b[0;31m# corpus.append(process_data(text))\u001b[0m\u001b[0;34m\u001b[0m\u001b[0;34m\u001b[0m\u001b[0;34m\u001b[0m\u001b[0m\n\u001b[1;32m      6\u001b[0m     \u001b[0mout\u001b[0m \u001b[0;34m=\u001b[0m \u001b[0mprocess_data\u001b[0m\u001b[0;34m(\u001b[0m\u001b[0mtext\u001b[0m\u001b[0;34m)\u001b[0m\u001b[0;34m\u001b[0m\u001b[0;34m\u001b[0m\u001b[0m\n",
            "\u001b[0;32m<ipython-input-16-a36d799b1d2a>\u001b[0m in \u001b[0;36mget_data\u001b[0;34m(filepath)\u001b[0m\n\u001b[1;32m      2\u001b[0m   \u001b[0;32mwith\u001b[0m \u001b[0mopen\u001b[0m\u001b[0;34m(\u001b[0m\u001b[0mfilepath\u001b[0m\u001b[0;34m,\u001b[0m \u001b[0;34m'r'\u001b[0m\u001b[0;34m,\u001b[0m \u001b[0mencoding\u001b[0m\u001b[0;34m=\u001b[0m\u001b[0;34m'utf-8'\u001b[0m\u001b[0;34m)\u001b[0m \u001b[0;32mas\u001b[0m \u001b[0mfile\u001b[0m\u001b[0;34m:\u001b[0m\u001b[0;34m\u001b[0m\u001b[0;34m\u001b[0m\u001b[0m\n\u001b[1;32m      3\u001b[0m     \u001b[0;32mtry\u001b[0m\u001b[0;34m:\u001b[0m\u001b[0;34m\u001b[0m\u001b[0;34m\u001b[0m\u001b[0m\n\u001b[0;32m----> 4\u001b[0;31m       \u001b[0mtext\u001b[0m \u001b[0;34m=\u001b[0m \u001b[0mfile\u001b[0m\u001b[0;34m.\u001b[0m\u001b[0mread\u001b[0m\u001b[0;34m(\u001b[0m\u001b[0;34m)\u001b[0m\u001b[0;34m\u001b[0m\u001b[0;34m\u001b[0m\u001b[0m\n\u001b[0m\u001b[1;32m      5\u001b[0m       \u001b[0;32mreturn\u001b[0m \u001b[0mtext\u001b[0m\u001b[0;34m\u001b[0m\u001b[0;34m\u001b[0m\u001b[0m\n\u001b[1;32m      6\u001b[0m     \u001b[0;32mexcept\u001b[0m \u001b[0mUnicodeDecodeError\u001b[0m \u001b[0;32mas\u001b[0m \u001b[0merr\u001b[0m\u001b[0;34m:\u001b[0m\u001b[0;34m\u001b[0m\u001b[0;34m\u001b[0m\u001b[0m\n",
            "\u001b[0;32m/usr/lib/python3.7/codecs.py\u001b[0m in \u001b[0;36mdecode\u001b[0;34m(self, input, final)\u001b[0m\n\u001b[1;32m    317\u001b[0m         \u001b[0;32mraise\u001b[0m \u001b[0mNotImplementedError\u001b[0m\u001b[0;34m\u001b[0m\u001b[0;34m\u001b[0m\u001b[0m\n\u001b[1;32m    318\u001b[0m \u001b[0;34m\u001b[0m\u001b[0m\n\u001b[0;32m--> 319\u001b[0;31m     \u001b[0;32mdef\u001b[0m \u001b[0mdecode\u001b[0m\u001b[0;34m(\u001b[0m\u001b[0mself\u001b[0m\u001b[0;34m,\u001b[0m \u001b[0minput\u001b[0m\u001b[0;34m,\u001b[0m \u001b[0mfinal\u001b[0m\u001b[0;34m=\u001b[0m\u001b[0;32mFalse\u001b[0m\u001b[0;34m)\u001b[0m\u001b[0;34m:\u001b[0m\u001b[0;34m\u001b[0m\u001b[0;34m\u001b[0m\u001b[0m\n\u001b[0m\u001b[1;32m    320\u001b[0m         \u001b[0;31m# decode input (taking the buffer into account)\u001b[0m\u001b[0;34m\u001b[0m\u001b[0;34m\u001b[0m\u001b[0;34m\u001b[0m\u001b[0m\n\u001b[1;32m    321\u001b[0m         \u001b[0mdata\u001b[0m \u001b[0;34m=\u001b[0m \u001b[0mself\u001b[0m\u001b[0;34m.\u001b[0m\u001b[0mbuffer\u001b[0m \u001b[0;34m+\u001b[0m \u001b[0minput\u001b[0m\u001b[0;34m\u001b[0m\u001b[0;34m\u001b[0m\u001b[0m\n",
            "\u001b[0;31mKeyboardInterrupt\u001b[0m: "
          ]
        }
      ]
    },
    {
      "cell_type": "code",
      "source": [
        "with open('/content/drive/MyDrive/kursovaya2022/hseling-api-direct-speech/2017_results.txt', 'r', encoding='utf-8') as file:\n",
        "  text = file.read()\n",
        "  texts = text.split('\\n=====\\n')"
      ],
      "metadata": {
        "id": "vUc9B-LDinLs"
      },
      "execution_count": null,
      "outputs": []
    },
    {
      "cell_type": "code",
      "source": [
        "len(texts)"
      ],
      "metadata": {
        "colab": {
          "base_uri": "https://localhost:8080/"
        },
        "id": "fyKHDyRViwR6",
        "outputId": "983cc535-e33b-4141-9b47-af78973812a7"
      },
      "execution_count": null,
      "outputs": [
        {
          "output_type": "execute_result",
          "data": {
            "text/plain": [
              "33249"
            ]
          },
          "metadata": {},
          "execution_count": 20
        }
      ]
    },
    {
      "cell_type": "code",
      "source": [
        "texts[-2]"
      ],
      "metadata": {
        "colab": {
          "base_uri": "https://localhost:8080/",
          "height": 1000
        },
        "id": "vvILe2Phitwz",
        "outputId": "976d7c27-a0dd-4232-cb45-5122f375d20b"
      },
      "execution_count": null,
      "outputs": [
        {
          "output_type": "execute_result",
          "data": {
            "text/plain": [
              "'Если я ничего не перепутал в их норвежской географии FINAL VERSION \\nВоркутинский Всегда езжу из Ярославля в Москву и обратно на Воркутинском поезде. Он удачно вписывается в мои будни и по времени и по удобствам. Прихожу на Ярославль Гл. (так в билете написано, - Гл.), а тут и Воркутинский приходит. Ехать приятно, не без некоторого провинциального шика. Удобно и думать всю дорогу. В эту поездку сначала анализировал, что же означает Гл. после слова Ярославль. Постепенно моя мысль перескочила на другие слова, начинающиеся с Гл. Подумал я и о глине.\\n Пока я сидел и размышлял о глине, в мой вагон Воркутинского вошли с двух сторон где-то полсотни людей в красивой униформе. Главным начальником у них оказалась женщина приятной наружности и хороших манер. Она звонко и чётко рявкнула: «Всем оставаться на своих местах! Мы вас не тронем! Нам нужен только Ринат Барабуллин. Есть здесь такой» С одного из передних сидений бочком-бочком выскользнула тень и зашептала в ухо начальницы. Так как в вагоне после вопроса женщины приятной наружности и хороших манер царили тишина и безмолвие, шёпот доносчика-агента-подсадной утки был мною услышан: «Он там! Сидит на месте номер 24. Думает про глину, самое время его хватать!» Меня тут и схватили, скрутили, но не больно, а даже нежно. Подвели к начальнице. От нервного шока и разрыва сердца меня спасло то, что я всё ещё думал о глине. Женщина приятной наружности и хороших манер проверила мой паспорт, после чего объявила: \" Вам бандероль, Ринат Барабуллин, с книгой в ней. Почтовая Служба страны в моём лице счастлива вручить её Вам. Читайте, наслаждайтесь, это всё Вам!» Мне вручили бандероль, добавили поздравительную открытку, на которой при мне расписались все «напавшие на поезд» почтальоны. Они пропали так же внезапно, как и появились.\\n Воркутинский увозил меня в Москву, погружённого в думы о глине и в облако ароматов духов Баленсиага, что оставила после себя женщина приятной наружности и хороших манер.\\n *** \\nПрофессор Мишуряпкин Профессор Мишуряпкин всю жизнь занимался историей города Чашки Свердловской области. Недавно его заслуженно выдвинули кандидатом на получение премии Министерства Культуры. И тут вдруг...\\n ... случилась незадача.\\n Кто-то начал настойчиво муссировать слухи, что не Мишуряпкин достоен высочайшей награды, а другой...\\n ... скромный работник торговли, кто неожиданно выловил в бочке селёдки иваси три амфоры крымской кладки династии цинь тунь бунь зинь динь динь.\\n Профессор Мишуряпкин сначала переволновался, бросился звонить в Москву в Министерство. Но попадал всё в прачечную. «Видимо, меня отключили от прямой линии, сменили номера и вычеркнули из списков на премию.\" - справедливо заключил Мишуряпкин.\\n И тут он вдруг как-то сразу успокоился, бросил пить, бросил жену с её страстью к сослагательному наклонению.\\n Бывший профессор и кандидат на премию купил велосипед и поехал в Женеву изучать там народность Пумбель. Ветер весело пел народные песни и частушки в ушах Мишуряпкина, когда он шуршал новыми, пахнущими свежей резиной, шинами по тем неполным трём километрам хорошей асфальтовой дороги, появившимся в Чашках, когда жила ещё надежда, что туда переведут из Москвы Верховный Суд и Казначейство. Рядом с этой прекрасной дорогой стоял новый столб с висящим на нём новым почтовым ящиком. Совладав с новой, пахнущей свежей краской заслонкой окошечка, Мишуряпкин опустил в него письмо ректору Чашкинского Университета Гидравлики, в котором учёный-историк объяснил, что увольняется по собственному желанию, чтобы начать изучать совсем другой феномен.\\n Почтовый ящик был не простой, а самый популярный, любимый всеми в городе. Молодожёны приезжали фотографироваться к нему. Юные пионеры (есть ещё такие) принимали у ящика присягу. Участники международных экономических форумов высказывали самые сокровенные и смелые прогнозы, стоя рядом с ним. Если у Вас в семье растёт дочь-тинэйджер, что встречается со странным парнем-гопником, у них только один способ завоевать Вас на свою сторону: «Папа и мама! Сегодня мы с Коляном идём в кино на последний сеанс. А потом едем на всю ночь к его друзьям в посёлок Затишки-Красноказарменный. Но мы обязательно заскочим к почтовому ящику опустить письмо тёте Гале в Ярославль!» После этих слов сердца самых даже самых суровых родителей тают и начинают петь весёлые народные песни и частушки.\\n Прошли годы. Лет одиннадцать. Мишуряпкин вернулся в город Чашки, где и обнаружил чашку свежего дымящегося кофе у себя на столе в своём кабинете в Университете. Письмо, как и ожидалось разумным читателем, до ректората не дошло. Оно было потеряно там же, по пути из любимого почтового горожанами ящика на стол к руководителю Университета. Никто не заметил отсутствия профессора. Его секретарша приносила каждое утро кофе, а вечером забирала пустую чашку. Кто же этот кофе выпивал \\n *** Вам посылка Ринат Барабуллин плохо спал в ту ночь. И это было странно. Дождь за окном должен был быть успокаивающим и, в некотором смысле, убаюкивающим. На Рината же падающая вода не действовала, не вызывала сон. <speech><said aloud=\\'True\\' type=\\'direct\\'>«Интересно, какова частота падения капель и их дисперсность в пространстве нашего города Чашки Свердловской области»</said></speech> - неожиданно подумал Барабуллин и мысленно потянулся за справочником по гидравлике, что всегда был на расстоянии вытянутой руки от него. Вторая мысль пришла вслед за первой, мешая той, а также не давая спать нашему гидравлику-исследователю:\"Если мы знаем частоту и дисперсность, с какой погрешностью можем мы оценить объём воды, выливающийся на улицы нашего города» На самом деле, Барабуллину не давало спать сложное задание, большой заказ, полученный недавно Объединением Гидравлика (где Ринат работал не на последней должности). Почтовая Служба страны решила закупить и установить во всех своих отделениях связи по России новые душевые кабины, оборудованные по последнему слову гидравлической техники. Поставщик должен был быть отечественным, а лучше Объединения Гидравлика и Рината с его командой им не найти. Идея у Почты простая, но удачная. Работники отечественной связи давно поняли, что даже если они смогут ликвидировать или уменьшить очереди, перестанут терять корреспонденцию, это никто не заметит и не оценит. Однако, как же приятно будет удивлён клиент Почтовой Службы страны (до этого крайне недовольный её работой), обнаружив в родном отделении возможность для себя принять душ самому и с семьёй, слегка простирнуть нижнее бельё, высушить всё, уложить волосы с помощью фена. Пока не решён вопрос со снабжением полотенцами, тапочками и халатами, но расходы на шампунь и мыло уже вложены в финансовые планы связистов. Кто-то из высших директоров Почтовой Службы страны даже предложил оплатить подписку всех отделений на лучшие российские литературные журналы (называемые ещё «толстые»). Ожидая своей очереди помыться или отдыхая после приятного душа, посетители будут читать лучшие произведения наших поэтов и писателей. Приятно после манипуляций со струёй тёплого воздуха из фена попасть в струю с литературной критикой или историей литературы. Зная огромное количество отделений связи, легко понять, что и сами журналы почувствуют крепкую руку поддержки от почтовиков. Это смелое предложение пока ещё не получило нужной поддержки Совета Директоров, но некоторые молодые и талантливые литераторы уже почувствовали «движуху» и засели за компьютеры, чтобы создать произведения, упоминающие Почтовую Службу страны в положительном ключе, но тактично и ненавязчиво. Так и Ринат чередует сейчас работу над дизайном оборудования для душевых кабин с созданием искристых строк типа следующих:\\n Не смогу я добраться до города Чашки -Тепловозы забыли дорогу туда.\\nПринесёт мне письмо почтальонша Наташка,В нём зелёного цвета пустая руда.\\n Барабуллин уже не спал, когда во входную дверь настойчиво постучали. Это был не стук дорогого друга Марата Мустафина, когда он приходит звать есть беляши. Маратовский звук костяшками пальцев не только музыкален, но он при этом и сытит. Не был это и стук столичного сыщика Шоколадкина. Тот никогда не стучит, а просто прижимает вдруг холодное дуло пистолета к виску Рината, словно так надо поступать с друзьями. Прозвучавший в темноте ночи стук заглушил дождь, но не разбудил Барабуллина (я же сказал, что он уже проснулся). <speech><said aloud=\\'True\\' type=\\'direct\\'>«Вам посылка! Я - почтальон!»</said></speech> - глухо ответил ночной гость на вопрос Рината «Кто там не спит в три часа дождливой ночи» Барабуллин нашёлся сразу и сообщил, что он уже принял душ и прочёл полжурнала «Новые Дружественные Юные Мирные Октябрьские Знамя и Звезда на берегу Уральской Волги». \\nНе помогло. Почтальон продолжал стучать и уговаривал открыть дверь «Не вызывать же МЧС из-за двухкилограммового ящичка от Вашей тёти из Ярославля!». Ринат было поддался на уговоры, но вдруг заметил промелькнувшую за окном тень. <speech><said aloud=\\'True\\' type=\\'direct\\'>«Спецназ Почтовой Службы страны с крыши сиганул. Сейчас вломятся сюда, высадив окно. Главное - не забыть расписаться в квитанции на получение!»</said></speech> - понял он.\\n\\n *** Если я ничего не перепутал в их норвежской географии Живёт Ринат Барабуллин в Америке, в городе Женева, если я ничего не перепутал в их норвежской географии Западной Сахары. Чуткий чёткий читатель из Чимкента Чижов-Штатский Еремей Макарович заметит, что я-то знаю, что в этой Японской Женеве все говорят по-каталански с лёгким придыханием пушту и санскрита. Итак, сидит этот Ринат в своей Венесуэле, смотрит в окно на вулкан Этну и считает на нём белых полярных медведей, бредущих гурьбой куда-то в Андалузию. Вдруг - звонок телефонный международный. Это Катька - подруга жены Барабуллина - звонит из Москвы ровно на минутку. Зная эти минутки Ринат берёт томик Тургенева и тактично выходит в другую комнату, чтобы не мешать женской беседе. У них в Финляндии много комнат в их юртах, особенно по утрам. Сидит Барабулллин в своей одной из многих комнат, читает Тургенева и ... Здесь мы должны прерваться и уточнить, что Тур Генефф - это тур-компания, что организует путешествия из Женевы, а Ринат их постоянный клиент. Читает Ринат, что же предлагает ему компания Тур Генефф, и не может ничего достойного найти. После завершения строительства пешеходного моста Гётеборг-Гётинген все путешествия из Женеву идут по этому мосту. Но так надоело созерцать сакуру и стричь верблюдам холки! К удивлению Рината, телефонный разговор в соседнем ауле утих, Барабулин вернулся в комнату. Жены нет (наверное пошла в Лувр или Британский Музей Метрополитен имени Хорхе Гонзалеса боливийского). А в комнате Катька! И комната не Барабуллиных в Будапеште, а Катина в Москве. Катька смотрит на Рината и говорит: «Когда прилетел, я что дверь не закрыла входную» Барабуллин: «Не летел я! я у себя в Женеве!» Катерина: «Хоть в Гондурасе, ботинки сними, натопчешь.\" Ринат сообразил, что Катька должна снова позвонить по телефону в Женеву, чтобы он смог попасть обратно домой к себе к своим родным унылым просторам Голландии. Барабуллин попросил ещё раз позвонить и потрепаться с его женой. Он показал на чёрный телефон сталинских времён (эбонитовый корпус, тканевый шнур, никакого пластика, никаких кнопок - где Катька его надыбала). Катя: «Не могу, дорого, я с работы завтра позвоню.\" Ринат: «Я тебе оплачу расходы, дам 50 долларов.\" Катя: «Давай 40, хватит!\"Барабуллин открывает портмоне, там лишь австралийские доллары (откуда), а должны быть американские. Сбоку видны большие красные прямоугольники, словно это открытки к Великому Октябрю. Катя: «Да у тебя и русские рубли есть, давай их лучше! И берёт эти прямоугольники.\"Ринат: «Странные какие-то рубли. Новые что-ли\"Катерина: «У нас и армия новая, странная такая. Словно инопланетяне. Мы все их боимся. Олигархи перестали платить на содержание армии, так она и преобразилась.\" \\nКатя печально вздохнула и вдруг неожиданно запела надрывную (видимо, народную) песню:\\n\\nне попал он под раздачубыл расстрелян просто такпросто так, а не иначевот такой у них бардак\\nшёл он мимо, жаркий тигельгрел и руку и лицо дома ждал щеночек бигль,палисадник и крыльцо\\nне дошёл, стрельнули в ухопал на землю и затихза сараем гулко ухалкомандир, читая стих:\\n«Я прижму тебя, родная,В темноте, в которой жмут,В чёрном шорохе сарая,Где метёлки и хомут.\\n Будешь мною ты прижата,Как осенняя трава.\\nПод луной блестит лопата,Что опёрта о дрова.\"\\nКатерина посоветовала никуда никому не звонить до того, как пойдёт дождь Поэтому мы долго сидели в её итальянских оранжевых креслах, пили красное холодное вино прямо из холодильника, махали низко пролетавшим самолётам. Ринату даже в какой-то момент показалось, что он - маленький, наверное, четырёх лет, мальчик, который только что проснулся от ласкового поцелуя бабушки Нюры. Она поставила перед кроватью внука табуретку из Остролистого Чашкинского Ясеня (работы деда Егора; он хоть и простой деревенский печник, но рубанком, фуганком и шерхебелем тоже владеть умеет). На сиденье табуретки чистая клеёнка, а на ней большая зелёная эмалированная кружка парного молока и тарелка со свежими оладьями с пылу - с жару из русской печи. \\nМальчик ест и вдруг обнаруживает, что вокруг него незнакомая комната, и дом не бабушки с дедушкой. Табуретки, молока и оладей нет. На стене большая карта Женевщины. Из приоткрытой двери слышен звонкий женский смех. Это Катька - подруга жены Барабуллина - звонит из Москвы ровно на минутку. Зная эти минутки Ринат берёт томик Тургенева и тактично выходит в другую комнату, чтобы не мешать женской беседе. У них в Финляндии много комнат в их юртах, особенно по утрам.\\n *** Проснулся в 52 09 Ринат Барабуллин проснулся в 52:09, а уже к 32:10 завершил и умывание и завтрак. Ему надо было спешить. В 40:11 начинался митинг у памятника Моряку Чашке. Тайное Общество Толкающих Время Вспять (для краткости ТОТВВ) регулярно собиралось под выдуманными предлогами. \\nНа самом деле, на всех этих встречах обсуждалось Когда Же Решат Когда, наметят день и точное время, разбегутся все дружно и толкнут Время Вспять. Никому не будет обидно. Время раскрутится в противоположном направлении. Люди начнут молодеть и немного глупеть, влюбляться и мечтать о светлом будущем. Но это будущее и есть наше теперешнее настоящее. О нём мечтать как-то неинтересно. Вот и не могут заговорщики ТОТВВ договориться о том Когда Же Или это будет прошлое Время-то толкнут в противоположном направлении. Пусть учёные будущего-прошлого решат. Одна проблема... С этими учёными всегда одни проблемы. С течением времени в обратную сторону накопленное знание в их головах будет уменьшаться. Может, так и лучше Меньше знаешь - лучше разбираешься в парадигме прошлое-будущее. Ничто не отвлекает, не давит своим авторитетом. *** Она любит смотреть в окно она любит смотреть в окно. особенно ночью, когда надо спать. моя главная задача перед сном упасть головой в подушку и замереть, словно уже давно и продуктивно сплю. малейшее движение век - я буду обязан отшторить окно, чтобы туда смотреть. если я сплю (назовём так), она сама отшторит окно. но я делаю это лучше.\\n наше окно во всю стену. во все стены и потолок. когда его отшториваешь, ты - центр мира, который весь вокруг. киты шумно и брызгливо ныряют, показывая свой хвостовой плавник. антилопы переплывают бурную реку, оставляя часть себя в зубах крокодилов. вулкан на Филиппинах шлёт в небо свои приветы, огонь и взрывы. машины мёрзнут на дорогах Лапландии, жмутся друг к другу, их заносит. их также заносит снегом. большие туристические теплоходы медленно проплывают. проооо - плыыыыы - ваааа - ююют. путешествующие на них пожилые японцы собираются у одного борта и смотрят-смотрят на нас. я поправляю свои ночные одеяния (если они на мне есть). туристы достают свои фотокамеры и делают селфи. никто не фотографирует нас. только селфи. на фоне нас спящих.\\n если лето, мы открываем окно. альбатросы залетают к нам спальню. они поальбатросят и бросят. бросят нам рыбу, что только что поймали. альбатроснутая рыба ещё бьёт хвостом, но не так замечательно, как киты. пролетает поезд Пустынный Экспресс и засыпает нас горячим песком. вместе с альбатросной рыбой. рыба начинает жариться. из окна Экспресса выплёскивается ведро эспрессо. рыба жадно пьёт эспрессо, даже прекращает бить хвостом. я продолжаю делать вид, что сплю. иначе надо будет отшторивать окно.\\n зимой мы не открываем отшторенное окно. но зимы у нас не бывает никогда. тепло накапливается за лето через открытое и отшторенное окно. где-то здесь в спальне в барханах песка и завалах жареной рыбы (жадно пьющей эспрессо) можно найти льдинку или две. вчера нашли тушку мамонта. в куске льда размером с мамонта. прикрыли от греха подальше тухфайкой (так Дед Егор называл ватник). а он знает что и как называть, воевал против австрияков ещё на той войне, что не довоевали. а вернулись. и пришлось воевать гораздо больше и дольше. дома, а не там. австрияки здесь не при чём. когда мы в Австрии, тогда мы пьём их кофе. всё остальное время наша альбатросистая рыба пьёт эспрессо. в три рыбьих горла. ей жарко, её печёт.\\nпосмотри, как красиво! - говорит она. этим она меня будит, но я люблю смотреть в окно через её плечо. ночью. прижавшись. если я не сплю, то я смотрю в окно вместе с ней. и отшториваю. и открываю. и еду с ней в Австрию пить их кофе.\\n *** О буднях современной разведки Я тщательно изучил работу современных разведок, с погружением. Выяснил суть и проник в детали. Всё изложенное здесь - правда. Хоть проверяйте меня на детекторе лжи.\\n Я пересмотрел десятки современных художественных фильмов про шпионов, и наших и их, и на русском и на нерусском языках, проанализировал и понял всё. Вот вам и раскрываю тайны рыцарей плаща и кинжала.\\n Это раньше надо было разведчику тайно переходить границу, изображать из себя местного пацана, затаиваться, добиваться, чтобы приняли на работу мелким клерком в государственную контору.\\nИ только после многих лет работы там получить доступ к сейфу, который и сфотографировать невзначай между рыбалкой с самым главным шпионом страны и постельными акробатическими трюками с его молодой женой.\\n Сейчас всё наоборот. Переползать границу ночью в дождливом Ноябре и внедряться разносчиком канцтоваров по этажам секретного центра разведки НЕ НАДО!\\n Поступаешь на работу в разведку своей родной страны. Живёшь дома с родителями в Новокосино, вместе с народом мужаешь и умнеешь (в электричках и автобусах). Наконец получаешь доступ к своему собственному сейфу. Он может быть и пустой или не содержать ничего важного.\\n Главное, чтобы сейф был. А к этому железному ящику Мытищинского Завода приходит кабинет, телефон, подчинённые, звание и влияние. Что очень важно, с простым металлическим сейфом приходит и мировая известность. Там - за кордоном - твоё имя попадает в разработку, ведь у тебя есть сейф! Вражеские шпионы либо хотят проникнуть в этот сейф, а тебя завербовать - есть ещё такие романтики. Или - их большинство - мечтают, чтобы ты их завербовал. У тебя же есть сейф! Значит, ты хочешь их завербовать, чтобы можно было тоненькое досье нового агента положить в сейф.\\n И вот тут главное не перестараться, не отпугнуть врага, кто хочет стать другом. Нужно лишь ходить везде с умным видом, засвечиваться, дать им возможность выйти на контакт. Это может быть знак губной помадой на мусорном баке или абсолютно голая незнакомая женщина в твоей постели.\\nПосле вербовки зарубежного агента и запирания папочки в сейф ощущаете дождь звёздочек на погоны и ничего не делаете ещё несколько лет, пока Вам не дадут ключ от ещё большего сейфа (обратите внимание, что я перешёл с ТЫ на ВЫ из уважения к наличию сейфа). После этого всё повторяется по спирали.\\n Одна проблема (тоже показана в кинофильмах) - иногда никто не клюёт, никому нет дела до твоего сейфа, помаду тратят на губы (и мужчины и женщины), а обнажённые красавицы Вам только снятся. Вы же живёте с родителями в двушке в Новокосино. Вот тут фильмы и предлагают встречный ход конём. Какой Рассказываю, а вы записывайте. После прочтения Ваши записи необходимо немедленно съесть (иначе прочтут завистливые коллеги, уголовную статью об измене Родине никто не отменял).\\n Итак, Вы берёте губную помаду и переползаете границу ночью в дождливом Ноябре...\\n *** Черняшка Лётчик-испытатель майор Толбобобоев купил буханку хлеба-черняшки. Кассирша в супермаркете долго крутила-вертела туда-сюда этот хлебобулочный кирпич, словно сомневаясь, пробивать или не пробивать. Лётчик тоже не сразу взял с полки и положил себе в корзинку этот хлеб. Что-то его останавливало, не давало успокоиться. Не спешил лётчик и брать свою оплаченную покупку. Если бы кассирша изъяла черняшку, не пропустила через свою «границу на замке», то Толбобобоев с ней сразу же согласился и ушёл без хлеба. Но тогда ничего бы и не произошло. И наше знание о Вселенной было бы куцым. Человеческое общество остановилось бы в своём развитии или медленно поползло вперёд, словно сомневаясь.\\nПо прибытии на аэродром Толбобобоев сразу же направился к своему самолёту, возле которого подозрительно лениво возились три фюзеляжника : Ринат, Марат и Шоколадкин. Имя третьего солдата лётчик никак не мог запомнить, а фамилии первых двух никогда и не знал. Ещё несколько минут постукивания специальными кувалдочками, и работа по нивелированию фюзеляжа была закончена. Пытаясь залезть в кабину истребителя, Толбобобоев почувствовал вдруг, что что-то ему мешает. Этим «что-то» оказалась буханка черняшки, заботливо засунутая лётчиком за пазуху лётного комбинезона ещё в супермаркете. Отдав хлеб солдатам, лётчик теперь уже легко проскочил в жерло кабины и пружиня сел в кресло. Фюзеляжники рассматривали буханку, словно не Толбобобоев, а она сейчас должна взлететь. Они чуть отошли от сопл самолёта, но не спешили в укрытие. <speech><said aloud=\\'True\\' type=\\'direct\\'>«Что там Отойдите дальше!»</said></speech> - громко скомандовал пилот. Фюзеляжникам же было не до него.\\nТолбобобоев даже открыл стеклянный колпак кабины и выстрелил вверх из табельного пистолета. Ни малейшей реакции со стороны солдат. Они ещё больше углубились в разглядывание черняшки. Лётчик включил двигатели летающей машины и начал аккуратно объезжать Рината, Марата и Шоколадкина. Последний стоял слишком неудачно для манёвров истребителя, пришлось даже слегка задеть его краем левого крыла. <speech><said aloud=\\'True\\' type=\\'direct\\'>«Ничего! Как вернусь из полёта, всё узнаю про этот хлеб!»</said></speech> - успокаивал себя лётчик. Руководитель полётов дал добро на взлёт и только тут заметил группу из трёх фюзеляжников в неположенном месте. С вышки управления полётов было не разглядеть, что солдаты рассматривают. Пришлось послать к ним помощника на Уазике и двух автоматчиков с ним. Всем троим Руководитель приказал надеть костюму химзащиты, вдруг потребуется.\\nВ небе над аэродромом летел Толбобобоев. Он забирал на Восток, в направлении на Москву. Ровно гудели двигатели истребителя опытного образца. То место на груди майора, которого недавно касалась черняшка, вдруг начало жечь, болеть и даже как будто бы посвистывать. Скоро жжение и свист стали нестерпимыми. Особенно этот противный звук, словно из глиняной русской народной сопелки в виде птички. Лётчик любил фольклорную музыку, сам по вечерам играл на деревянных ложках. Но этот свист был невыносимым. <speech><said aloud=\\'True\\' type=\\'direct\\'>«Отбросить колпак кабины и катапультироваться»</said></speech> - эту мысль Толбобобоев гнал от себя, а сам гнал и самолёт обратно в сторону родного аэродрома. Нельзя было уничтожать самолёт, ещё не вставший на вооружение. Его производство всё ещё штучно. Внизу безмятежно простирались родные поля и леса. Вот уже и знакомый изгиб реки, от которого лететь только три минуты. Ни через три ни через четыре минуты аэродром не появился. Под крылом самолёта неслись изгиб за изгибом реки, словно змеи на китайских шёлковых картинах. Приборы показали, что Толбобобоев давно уже летит над Эстонией, а аэродрома всё не было видно. Эстония сменилась Финляндией, а затем резко подскочившей Канадой. <speech><said aloud=\\'True\\' type=\\'direct\\'>«Как же я приземлюсь в Квебеке без знания французского»</said></speech> - всполошился лётчик-испытатель. Но вскоре он успокоился, поняв, что Квебек пройден, как и вся Северная Америка, под крыльями раскинулась Аргентина. Свист тоже почувствовал географические перемены. Русские наигрыши сменились мелодиями танго. Жечь стало меньше.\\n Когда к ним приблизились трое в костюмах химзащиты, Ринат, Марат и Шоколадкин решили живыми не сдаваться. И уж точно не отдавать буханку хлеба в эти резиновые руки. Шоколадкин было вспомнил свою маму, живущую в городе Слуцк, но долго думать о ней не позволяли обстоятельства. <speech><said aloud=\\'True\\' type=\\'direct\\'>«Кувалдочки на изготовку! Делай Раз! Раз! Раз! Раз!»</said></speech> - от волнения Ринат забыл, что есть ещё и Два и Три, он командовал только «Раз!». Но такой сложной математики и не требовалось. Друзья и так успешно пробивали себе дорогу сквозь блестящие бултыхающиеся фигуры химзащитников, прикрывая собой черняшку - одну на всех. Где-то высоко и далеко летел экспериментальный самолёт курсом на Аргентину.\\n *** Бывший полицейский комиссар Жан-Пьер-Огюст Свежэ\\nБывший полицейский комиссар Жан-Пьер-Огюст Свежэныне - опустившийся подозрительный тип.\\nВнезапно узнаёт, что его друга обвинилив неправильной варке борща.\\nТучи над приятелем (его зовут Фернан Нюнё) сгущаются, словно борщ, когда вода выкипает. В одну из ночей его квартиру вскрыли, но ничего не взяли.\\nДемонстративно не ели борщ, стратегически оставленный на плите.\\nВ другую ночь злоумышленники подсыпали три крупинки соли в рататуй.\\nА он - Фернан Нюнё - на бессолевой диете.\\nЧасто стали пропадать его фотографии с бывшей женой в ресторанах и кафе.\\nСама бывшая боится комментировать.\\nМадам Нюнё Ничего не добиться от неё.\\nФернан Нюнё пришёл в бешенство и перешёл в вегетарианство.\\nЖан-Пьер-Огюст Свежэ бросил пить,но не посвежел.\\nКомиссару подбросили ящик пива и вина.\\nИ две бутылки виски в подарочной коробке.\\nОн мужественно пьёт кока-колу с проститутками на Монмартре,чтобы узнать, откуда ноги растут.\\nУ путан они растут прямо от шеи,а у преступлений они растутот нечего делать.\\nА делать что-то надо, надо их остановитьФернан Нюнё держится из последних сил.\\nОн готов перейти на готовку супа Полевой на Пшене\\n{РЕЦЕПТ ЭТОГО СУПА.\\nПшена возьмите полстакана,И бросьте эту горсть пшенаТуда, где полон мир обмана,Где речь простая не слышна.\\nГде жгут, а также распаляют,Где никуда уж не уйти. Где редко селезень взлетает,Пытаясь жизни смысл найти.\\nГде налетает ветер с моряИ рвёт мой парус на клочки.\\nДобавьте лук и соли, что лиДержу за вас я кулачки.}\\nНеожиданно бывшая жена Фернана возвращается к нему.\\nЧуткое женское сердце и желание помочь в трудную минуту.\\nКомиссар начинает её подозревать,слишком уж всё гладко складывается.\\nСледы ДНК на солонке (помните рататуй) принадлежатумершему семь лет назадпри невыясненных обстоятельствах97-летнему (тогда) почтальону.\\nВ три часа ночи он громко объявил, что идёт спать, а утромникто не принёс почту в квартиру семьи Нюнё.\\nМожет он не умер, а просто пропалИ ищет, где ему лечь поспать.\\nСвои подушки почтальону перестали нравиться.\\nКомиссар устраивает засаду на кухне Нюнё,вооружившись поварёшкой (или как её теперь называть).\\nНочью осторожные шаги,громыхание крышкой кастрюли с борщом.\\nЯркий свет!\\nКомиссар набрасывается на ночного визитора.\\nТут вдруг удар чужой, вpажеской, не нашей, поварёшкой прямо в темечко.\\nЗаграничная вредная поварёшка ломается, но подлое дело своё она сделала.\\nЗначит, преступников было двое.\\nНа шум прибегает Фернан.\\nА где его бывшая женаКомиссар жив, он всё ещё сжимает нашу отечественную поварёшку.\\nНа сломанной вpажеской поварёшке находят ешё немного ДНК почтальона.\\nБывшую жену Фернана не находят,но приезжает её мамаша - бывшая тёща.\\nОна хочет помирить Фернана и свою дочь.\\nКакую дочь - спрашивает комиссар.\\nУ старушки двенадцать дочерей.\\nБабуля уходит на кухню готовить борщ по своему рецепту.\\nОна выливает в сортир (французское слово!) борщ Фернана.\\nНа дне кастрюли находят ещё одну поварёшку.\\nК утру готов новый борщ.\\nБабка пропала.\\nБывшая жена вернулась,ходила в Лувр пообщаться с прекрасным.\\nГде моя мамочка - спросила бывшая жена Фернана.\\nКуда вы её дели - и стала бить своими кулачками обоих мужчин.\\nЯ её сильно люблю! Или правильнее сказать «любила» Где она Вы её убили!\\nПлачущая женщина не слышала никаких доводов комиссара и его друга.\\nО, борщик! - вдруг резко сменила тему женщина.\\nЯ так люблю мамин борщик! - и она зачерпнула поварёшкутолько для того, чтобы в рубиновом мареве супа обнаружитьтруп старушки.\\n(это было едкое замечание одного из читателей сего рассказа!)Нет, не труп старой женщины, а ещё одну поварёшку.\\nПохоже, все следы ведут в Поварёшечный магазин! - заключил комиссар.\\nНе все! - крикнул кто-то и потушил свет.\\nЗвуки борьбы и даже пара выстрелов из разнокалиберного оружия.\\nСнова зажёгся свет.\\nНа кухне никого.\\nБорщ съеден, посуда помыта, поварёшка протёрта и воткнута в ...\\n... банку мёда (!)\\nЧерез неделю комиссара нашли живым, но в стельку пьянымв городе Оснабрюк, в Германии.\\nОн не помнил, как туда попал.\\nФернана тоже нашли, но в Уганде, поедающим Форшмак по-угандийски с бататом фри.\\nБывшую жену Фернана всё ещё ищутсреди двенадцати идентичных сестёр.\\nИх мамаша оказалась живой, но отказывается помогать или что-либо объяснять.\\nЛувр всё там же.\\n Ждите продолжения истории скоро по всем каналам... '"
            ],
            "application/vnd.google.colaboratory.intrinsic+json": {
              "type": "string"
            }
          },
          "metadata": {},
          "execution_count": 22
        }
      ]
    },
    {
      "cell_type": "markdown",
      "source": [
        "Remove empty instances"
      ],
      "metadata": {
        "id": "L659nKYLQCM-"
      }
    },
    {
      "cell_type": "code",
      "source": [
        "corpus = [x for x in corpus if x]"
      ],
      "metadata": {
        "id": "zPMfCLHwQr3q"
      },
      "execution_count": null,
      "outputs": []
    },
    {
      "cell_type": "code",
      "source": [
        "len(corpus)"
      ],
      "metadata": {
        "colab": {
          "base_uri": "https://localhost:8080/"
        },
        "id": "LSoAD06K-Gsz",
        "outputId": "2223b36a-0d8c-4545-f364-44e0433e527b"
      },
      "execution_count": null,
      "outputs": [
        {
          "output_type": "execute_result",
          "data": {
            "text/plain": [
              "6931"
            ]
          },
          "metadata": {},
          "execution_count": 26
        }
      ]
    },
    {
      "cell_type": "code",
      "source": [
        "corpus[100]"
      ],
      "metadata": {
        "colab": {
          "base_uri": "https://localhost:8080/",
          "height": 174
        },
        "id": "cxQ9ysMItk4P",
        "outputId": "9a08dd7f-5b57-4336-d9e1-b1b548800fa4"
      },
      "execution_count": null,
      "outputs": [
        {
          "output_type": "execute_result",
          "data": {
            "text/plain": [
              "' \\n У этой палаты не было никакого номера. Это вообще и не палата вовсе. Это большая комната, заставленная узкими односпальными кроватями, спаренными по две. Между ними промежуток, где стоит табуретка. На неё кладётся верхняя одежда, если у кого таковая есть. На этих кроватях поочерёдно отдыхают, дремлют больные. Психи!\\n Да! Это психушка, дурдом! Отделение дневного пребывания! Ох-хо-хо! Сколько нас тут -- психов!\\n Когда утром открываются двери этого замечательного во всех отношениях заведения, медсестра приглашает пациентов:\\n - Проходите в палату, пожалуйста. Занимайте кровати и идите получать лекарства. Не толпитесь: кроватей на всех хватит.\\n Как бы не так! Кроватей не хватает. «Пациенты» стараются войти первыми, быстро подбегают к кровати и кладут на подушку кто полотенце, кто простынку. Всё застолблена кровать! Люди, которым не повезло с кроватями, сидят на стульях. Хоть тут повезло: удалось стул занять! А тем, кому не повезло ни с кроватью, ни со стулом, сидят на табуретках. Это очень тяжело! Лекарства, представляющие собой в основном антидепрессанты, призванные снижать апатию, навязчивые мысли, маниакально депрессивный психоз, улучшать настроение, вызывают безумную сонливость и сухость во рту. И, как мне показалось, нисколько не улучшают настроение.\\n А вот апатия возрастает. Ничего не хочется делать, ни о чём не хочется думать. Только бы поспать! Только бы хотя бы полежать! Спина! Спина! Ох! Как болит спина! Сидя на стуле, можно хоть откинуться и так немного облегчить свою участь, а, если на табуретке, то....Совсем тяжело высидеть день.\\n Горизонтальное положение тела! Это -- мечта! МЕЧТА! Но она трудно досягаема! Чёртова перестройка! Сколько горя ты принесла простому люду! Сколько убито! Сколько покончили с собой! Сколько инфарктов и инсультов! Сколько разбитых семей, сломанных судеб! И, наконец, сколько развелось «психов»! Комната с размерами 6х9 метров не вмещает всех, кому требуется медицинская помощь. Это только дневной стационар. Это только кусочек, маленький кусочек большого комплекса психиатрической больницы, состоящей из нескольких корпусов. \\n Здесь собраны те, кто, по мнению врачей, не безнадёжен. Излечим. У людей стали проявляться такие «синдромы», с какими медицина не сталкивалась ранее. И лекарств не изобрели. Но народ у нас терпеливый и выносливый. К сожалению как-то сразу мужчины перестали быть мужчинами. Их было много меньше в этой палате, но они больше, чем женщины пользовались дефицитными кроватями. Ляжет такой мужичок на минутку «расправить спину», и его уже пару -- тройку часов нельзя трогать. Женщины более гуманны. Полежит одна полчасика или минут сорок, и уступает место другой.\\n Сначала дни тянулись безумно долго. У меня больная спина: сдвинуты 5-ый и 6-ой позвонки. Сидеть долго невозможно. Я стала приглядываться к окружающим и увидела Аллу. Алла -- наша сотрудница. Тихая, скромная, приветливая и...безотказная. Она работала у нас на ксероксе, который только-только стал заменять РЭМ -- множительные машины. Никому не отказывала что-нибудь «отксерить». Делала копии с документов, с фотографий. Иногда копировала целые книги. Причём: это она проделывала бесплатно и в нерабочее время. \\n Почему же она здесь Что, какой «синдром» её сюда привёл Спрашивать неудобно, бестактно. Поэтому, я решила посвятить её в свою проблему.\\n <speech><said aloud=\\'True\\' type=\\'direct\\'>- Алла! А знаете, почему я сюда попала Не поверите! Именно поэтому, мне так тяжело, ибо, если я скажу кому-то из наших сотрудников о своей беде, мне никто не поверит. Вот и кручусь в собственном соку. Продолжать Алла, неопределённо пожала плечами. И я продолжила.</said></speech>\\n <speech><said aloud=\\'True\\' type=\\'direct\\'>- Как Вы относитесь к нашей семье Образцово -- показательная, да Так, нет! Развалилась большая дружная семья под названием СССР, теперь разваливаются маленькие семьи. Дружные семьи. Вот и меня эта беда настигла. Наша молодая сотрудница стала проявлять постоянное настойчивое внимание к Серёже, и он не устоял. Продавать квартиру пока не хочет, ехать в Россию собирается с ней, как заработает ещё немного денег. Она вот на это-то и рассчитывает. А он совсем запутался: и меня бросить не может, и с ней расстаться не в силах. Мается. И я с ним маюсь. Квартира записана на него. Я её продать не могу. У одного сына нет места для меня: одна комната в коммуналке, где он живёт с женой и дочкой. У другого - три сына и жена. Да и это -- тёщина квартира. Там, тоже нет места. Я решила разом узел разрубить. Все мысли... о суициде. И попытки были. Неудачные! А теперь ещё и истерики начались. Не могу с ними справиться. <speech>Сюда пришла, врач спрашивает</said>: «<author_comment>на что жалуетесь»</author_comment></speech> Я ей и говорю: \" на нервную распущенность!» Она засмеялась: «Хорошие больные пошли: с готовым диагнозом». Вот и определила меня сюда. </speech>\\n Алла промолчала. Никакой реакции. Никакого продолжения разговора. Обед! После обеда состояние резко ухудшается. Выпита вторая таблетка: спать хочется неимоверно сильно. Спина совсем не держит. Вот-вот попадаем с табуреток. Вдруг Алла заговорила.\\n <speech><said aloud=\\'True\\' type=\\'direct\\'>- Лариса, я вот о чём подумала: нам надо спороваться, чтоб успеть хоть на некоторое время, не надолго, захватывать кровать. А Будем следить: как кто ляжет, займём за ним очередь. Договоримся, чтоб не пускал другого. Вы за одним, я -- за другим. А как отвоюем кровать, так по очереди и отдохнём. Нет сил!</said></speech>\\n Так и сделали. Появились минуты для передышки: 20-30 в день. Стало немного легче. Алла о себе ничего не говорит. Я не спрашиваю. Обо мне тоже больше не говорим. Интересно, всё же: что её сюда привело'"
            ],
            "application/vnd.google.colaboratory.intrinsic+json": {
              "type": "string"
            }
          },
          "metadata": {},
          "execution_count": 27
        }
      ]
    },
    {
      "cell_type": "markdown",
      "source": [
        "Save the preprocessed corpus"
      ],
      "metadata": {
        "id": "MJgk5BCpQEsO"
      }
    },
    {
      "cell_type": "code",
      "source": [
        "with open('/content/drive/MyDrive/kursovaya2022/hseling-api-direct-speech/2017_results.txt', 'w', encoding='utf-8') as file:\n",
        "  for c in corpus:\n",
        "    file.write(c)\n",
        "    file.write('\\n=====\\n')"
      ],
      "metadata": {
        "id": "MgZAy_yrQ6Mf"
      },
      "execution_count": null,
      "outputs": []
    }
  ],
  "metadata": {
    "colab": {
      "collapsed_sections": [],
      "provenance": []
    },
    "kernelspec": {
      "display_name": "Python 3",
      "name": "python3"
    },
    "language_info": {
      "name": "python"
    }
  },
  "nbformat": 4,
  "nbformat_minor": 0
}
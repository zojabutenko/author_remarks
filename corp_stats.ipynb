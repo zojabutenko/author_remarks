{
  "nbformat": 4,
  "nbformat_minor": 0,
  "metadata": {
    "colab": {
      "provenance": []
    },
    "kernelspec": {
      "name": "python3",
      "display_name": "Python 3"
    },
    "language_info": {
      "name": "python"
    }
  },
  "cells": [
    {
      "cell_type": "markdown",
      "source": [
        "# Тетрадка с исследованием данных"
      ],
      "metadata": {
        "id": "1MA8ofogOZMw"
      }
    },
    {
      "cell_type": "markdown",
      "source": [
        "Imports:"
      ],
      "metadata": {
        "id": "X8DYStvaOwCS"
      }
    },
    {
      "cell_type": "code",
      "execution_count": null,
      "metadata": {
        "colab": {
          "base_uri": "https://localhost:8080/"
        },
        "id": "6hiXKynMW9XK",
        "outputId": "dc3e0c1e-1b1b-4b3e-fa4d-556cdbc8b9ff"
      },
      "outputs": [
        {
          "output_type": "stream",
          "name": "stdout",
          "text": [
            "Mounted at /content/drive\n"
          ]
        }
      ],
      "source": [
        "from google.colab import drive\n",
        "drive.mount('/content/drive')"
      ]
    },
    {
      "cell_type": "code",
      "source": [
        "import pandas as pd"
      ],
      "metadata": {
        "id": "sSLyBjZ7XCUB"
      },
      "execution_count": null,
      "outputs": []
    },
    {
      "cell_type": "code",
      "source": [
        "import matplotlib.pyplot as plt\n",
        "import seaborn as sns"
      ],
      "metadata": {
        "id": "lpdzWDMKa5vq"
      },
      "execution_count": null,
      "outputs": []
    },
    {
      "cell_type": "code",
      "source": [
        "from matplotlib.pyplot import figure"
      ],
      "metadata": {
        "colab": {
          "base_uri": "https://localhost:8080/",
          "height": 52
        },
        "id": "t7_x9OkbcLw3",
        "outputId": "5d0b6fdc-eca8-4ca5-fd7f-ee6301bb93d1"
      },
      "execution_count": null,
      "outputs": [
        {
          "output_type": "execute_result",
          "data": {
            "text/plain": [
              "<Figure size 1280x960 with 0 Axes>"
            ]
          },
          "metadata": {},
          "execution_count": 22
        },
        {
          "output_type": "display_data",
          "data": {
            "text/plain": [
              "<Figure size 1280x960 with 0 Axes>"
            ]
          },
          "metadata": {}
        }
      ]
    },
    {
      "cell_type": "markdown",
      "source": [
        "Load the dataset from drive"
      ],
      "metadata": {
        "id": "24vSGX8vOej8"
      }
    },
    {
      "cell_type": "code",
      "source": [
        "df = pd.read_csv('/content/drive/MyDrive/kursovaya2022/small_dataframe.csv')"
      ],
      "metadata": {
        "id": "gkN3hF5BXD81"
      },
      "execution_count": null,
      "outputs": []
    },
    {
      "cell_type": "code",
      "source": [
        "# dropping index columns that is stored after pandas to_csv operation\n",
        "\n",
        "df = df.drop(columns=['Unnamed: 0'])"
      ],
      "metadata": {
        "id": "VM1YkSDZXanQ"
      },
      "execution_count": null,
      "outputs": []
    },
    {
      "cell_type": "code",
      "source": [
        "df"
      ],
      "metadata": {
        "colab": {
          "base_uri": "https://localhost:8080/",
          "height": 1000
        },
        "id": "TyWkVJ4XXhZJ",
        "outputId": "2637386a-c600-40fe-dada-8cddbb755f38"
      },
      "execution_count": null,
      "outputs": [
        {
          "output_type": "execute_result",
          "data": {
            "text/plain": [
              "                                                   text  \\\n",
              "0     Разве мог Александр Мелявский, ступая на перро...   \n",
              "1     Разве мог Александр Мелявский, ступая на перро...   \n",
              "2     Разве мог Александр Мелявский, ступая на перро...   \n",
              "3     Разве мог Александр Мелявский, ступая на перро...   \n",
              "4     Разве мог Александр Мелявский, ступая на перро...   \n",
              "...                                                 ...   \n",
              "3571  Лэло-дофи.\\n\\n<speech><said aloud='True' type=...   \n",
              "3572  Лэло-дофи.\\n\\n<speech><said aloud='True' type=...   \n",
              "3573  Мы с опаской заглянули в комнату, в комнате бы...   \n",
              "3574   Седой старик провожал грустным взглядом своё ...   \n",
              "3575  Наверное, я уснула, потому что теплые грезы о ...   \n",
              "\n",
              "                                             clean_text  \\\n",
              "0     Разве мог Александр Мелявский, ступая на перро...   \n",
              "1     Разве мог Александр Мелявский, ступая на перро...   \n",
              "2     Разве мог Александр Мелявский, ступая на перро...   \n",
              "3     Разве мог Александр Мелявский, ступая на перро...   \n",
              "4     Разве мог Александр Мелявский, ступая на перро...   \n",
              "...                                                 ...   \n",
              "3571  Лэло-дофи.\\n\\n-- Где я Кто я Что я -- произнес...   \n",
              "3572  Лэло-дофи.\\n\\n-- Где я Кто я Что я -- произнес...   \n",
              "3573  Мы с опаской заглянули в комнату, в комнате бы...   \n",
              "3574   Седой старик провожал грустным взглядом своё ...   \n",
              "3575  Наверное, я уснула, потому что теплые грезы о ...   \n",
              "\n",
              "                                          direct_speech  \\\n",
              "0     <said aloud='True' type='direct'>-Ребята, дава...   \n",
              "1     <said aloud='True' type='direct'>- Он здесь</s...   \n",
              "2     <said aloud='True' type='direct'>- Катенька ид...   \n",
              "3     <said aloud='True' type='direct'>- Катенька ид...   \n",
              "4     <said aloud='True' type='direct'>- Катенька ид...   \n",
              "...                                                 ...   \n",
              "3571  <said aloud='True' type='direct'>- Чтобы ты по...   \n",
              "3572  <said aloud='True' type='direct'>- Да, да, всё...   \n",
              "3573  <said aloud='True' type='direct'>-Валь, ну сер...   \n",
              "3574  <said aloud='True' type='direct'>-- Фи-и-ил, р...   \n",
              "3575  <said aloud='True' type='direct'>-Так вот они ...   \n",
              "\n",
              "                                    clean_direct_speech  \\\n",
              "0     -Ребята, давайте сходим в воскресенье на стади...   \n",
              "1     - Он здесь! - Сказал Александр, подойдя к Миха...   \n",
              "2     - Катенька иди, мы сами справимся. - Сказала о...   \n",
              "3     - Катенька иди, мы сами справимся. - Сказала о...   \n",
              "4     - Катенька иди, мы сами справимся. - Сказала о...   \n",
              "...                                                 ...   \n",
              "3571  - Чтобы ты потом вспомнила всё, и нанесла мне ...   \n",
              "3572  - Да, да, всё хорошо, лучше, чем когда-либо, -...   \n",
              "3573  -Валь, ну серьезно, это...это бред! Во-первых,...   \n",
              "3574  -- Фи-и-ил, родненький мой... -- прошептала не...   \n",
              "3575    -Так вот они все куда делись, - прошептала Яна.   \n",
              "\n",
              "                                direct_speech_wo_author  \\\n",
              "0      -Ребята, давайте сходим в воскресенье на стадион   \n",
              "1                                            - Он здесь   \n",
              "2                     - Катенька иди, мы сами справимся   \n",
              "3                                                  . -    \n",
              "4     поддержала её, вторая женщина. -Я подожду на у...   \n",
              "...                                                 ...   \n",
              "3571  - Чтобы ты потом вспомнила всё, и нанесла мне ...   \n",
              "3572        - Да, да, всё хорошо, лучше, чем когда-либо   \n",
              "3573  -Валь, ну серьезно, это...это бред! Во-первых,...   \n",
              "3574                       -- Фи-и-ил, родненький мой..   \n",
              "3575                       -Так вот они все куда делись   \n",
              "\n",
              "                                          author_remark  \\\n",
              "0     <speech_verb semantic=\"speech\" emotion=\"neutra...   \n",
              "1     <speech_verb semantic=\"speech\" emotion=\"neutra...   \n",
              "2     <speech_verb semantic=\"speech\" emotion=\"neutra...   \n",
              "3                                                  , -    \n",
              "4     <speech_verb semantic=\"speech\" emotion=\"neutra...   \n",
              "...                                                 ...   \n",
              "3571  нет уж. Лучше иметь честного врага, чем ненадё...   \n",
              "3572  поспешно <speech_verb semantic=\"speech\" emotio...   \n",
              "3573  куда они жрут Во что У них не работает пищевар...   \n",
              "3574  <speech_verb semantic=\"speech\" emotion=\"quiet\"...   \n",
              "3575  <speech_verb semantic=\"speech\" emotion=\"quiet\"...   \n",
              "\n",
              "                                    clean_author_remark        verb  \\\n",
              "0     сказала Таня, когда парни подошли к девочкам, ...     сказала   \n",
              "1            Сказал Александр, подойдя к Михал Иванычу.      сказал   \n",
              "2     Сказала одна из женщин, избавив парня, от нело...     сказала   \n",
              "3                                                  , -      вопроса   \n",
              "4     сказал Саша, закрывая дверь кабинета, и обрадо...      сказал   \n",
              "...                                                 ...         ...   \n",
              "3571  нет уж. Лучше иметь честного врага, чем ненадё...       скажу   \n",
              "3572                            поспешно произнесла я.   произнесла   \n",
              "3573  куда они жрут Во что У них не работает пищевар...     говорил   \n",
              "3574  прошептала несчастная, узнав его черты - Что с...  прошептала   \n",
              "3575                                    прошептала Яна.  прошептала   \n",
              "\n",
              "                                            masked_text  \\\n",
              "0     Разве мог Александр Мелявский, ступая на перро...   \n",
              "1     Разве мог Александр Мелявский, ступая на перро...   \n",
              "2     Разве мог Александр Мелявский, ступая на перро...   \n",
              "3     Разве мог Александр Мелявский, ступая на перро...   \n",
              "4     Разве мог Александр Мелявский, ступая на перро...   \n",
              "...                                                 ...   \n",
              "3571  Лэло-дофи.\\n\\n-- Где я Кто я Что я -- произнес...   \n",
              "3572  Лэло-дофи.\\n\\n-- Где я Кто я Что я -- произнес...   \n",
              "3573  Мы с опаской заглянули в комнату, в комнате бы...   \n",
              "3574   Седой старик провожал грустным взглядом своё ...   \n",
              "3575  Наверное, я уснула, потому что теплые грезы о ...   \n",
              "\n",
              "                                               maske_ds  verb_lemma  \n",
              "0     -Ребята, давайте сходим в воскресенье на стади...     сказать  \n",
              "1     - Он здесь! - [MASK] Александр, подойдя к Миха...     сказать  \n",
              "2     - Катенька иди, мы сами справимся. - [MASK] од...     сказать  \n",
              "3     - Катенька иди, мы сами справимся. - [MASK] од...      вопрос  \n",
              "4     - Катенька иди, мы сами справимся. - [MASK] од...     сказать  \n",
              "...                                                 ...         ...  \n",
              "3571  - Чтобы ты потом вспомнила всё, и нанесла мне ...     сказать  \n",
              "3572  - Да, да, всё хорошо, лучше, чем когда-либо, -...  произнести  \n",
              "3573  -Валь, ну серьезно, это...это бред! Во-первых,...    говорить  \n",
              "3574  -- Фи-и-ил, родненький мой... -- [MASK] несчас...  прошептать  \n",
              "3575        -Так вот они все куда делись, - [MASK] Яна.  прошептать  \n",
              "\n",
              "[3576 rows x 11 columns]"
            ],
            "text/html": [
              "\n",
              "  <div id=\"df-ce4e2f9d-a37f-4b11-afc3-5f4e1a39114e\">\n",
              "    <div class=\"colab-df-container\">\n",
              "      <div>\n",
              "<style scoped>\n",
              "    .dataframe tbody tr th:only-of-type {\n",
              "        vertical-align: middle;\n",
              "    }\n",
              "\n",
              "    .dataframe tbody tr th {\n",
              "        vertical-align: top;\n",
              "    }\n",
              "\n",
              "    .dataframe thead th {\n",
              "        text-align: right;\n",
              "    }\n",
              "</style>\n",
              "<table border=\"1\" class=\"dataframe\">\n",
              "  <thead>\n",
              "    <tr style=\"text-align: right;\">\n",
              "      <th></th>\n",
              "      <th>text</th>\n",
              "      <th>clean_text</th>\n",
              "      <th>direct_speech</th>\n",
              "      <th>clean_direct_speech</th>\n",
              "      <th>direct_speech_wo_author</th>\n",
              "      <th>author_remark</th>\n",
              "      <th>clean_author_remark</th>\n",
              "      <th>verb</th>\n",
              "      <th>masked_text</th>\n",
              "      <th>maske_ds</th>\n",
              "      <th>verb_lemma</th>\n",
              "    </tr>\n",
              "  </thead>\n",
              "  <tbody>\n",
              "    <tr>\n",
              "      <th>0</th>\n",
              "      <td>Разве мог Александр Мелявский, ступая на перро...</td>\n",
              "      <td>Разве мог Александр Мелявский, ступая на перро...</td>\n",
              "      <td>&lt;said aloud='True' type='direct'&gt;-Ребята, дава...</td>\n",
              "      <td>-Ребята, давайте сходим в воскресенье на стади...</td>\n",
              "      <td>-Ребята, давайте сходим в воскресенье на стадион</td>\n",
              "      <td>&lt;speech_verb semantic=\"speech\" emotion=\"neutra...</td>\n",
              "      <td>сказала Таня, когда парни подошли к девочкам, ...</td>\n",
              "      <td>сказала</td>\n",
              "      <td>Разве мог Александр Мелявский, ступая на перро...</td>\n",
              "      <td>-Ребята, давайте сходим в воскресенье на стади...</td>\n",
              "      <td>сказать</td>\n",
              "    </tr>\n",
              "    <tr>\n",
              "      <th>1</th>\n",
              "      <td>Разве мог Александр Мелявский, ступая на перро...</td>\n",
              "      <td>Разве мог Александр Мелявский, ступая на перро...</td>\n",
              "      <td>&lt;said aloud='True' type='direct'&gt;- Он здесь&lt;/s...</td>\n",
              "      <td>- Он здесь! - Сказал Александр, подойдя к Миха...</td>\n",
              "      <td>- Он здесь</td>\n",
              "      <td>&lt;speech_verb semantic=\"speech\" emotion=\"neutra...</td>\n",
              "      <td>Сказал Александр, подойдя к Михал Иванычу.</td>\n",
              "      <td>сказал</td>\n",
              "      <td>Разве мог Александр Мелявский, ступая на перро...</td>\n",
              "      <td>- Он здесь! - [MASK] Александр, подойдя к Миха...</td>\n",
              "      <td>сказать</td>\n",
              "    </tr>\n",
              "    <tr>\n",
              "      <th>2</th>\n",
              "      <td>Разве мог Александр Мелявский, ступая на перро...</td>\n",
              "      <td>Разве мог Александр Мелявский, ступая на перро...</td>\n",
              "      <td>&lt;said aloud='True' type='direct'&gt;- Катенька ид...</td>\n",
              "      <td>- Катенька иди, мы сами справимся. - Сказала о...</td>\n",
              "      <td>- Катенька иди, мы сами справимся</td>\n",
              "      <td>&lt;speech_verb semantic=\"speech\" emotion=\"neutra...</td>\n",
              "      <td>Сказала одна из женщин, избавив парня, от нело...</td>\n",
              "      <td>сказала</td>\n",
              "      <td>Разве мог Александр Мелявский, ступая на перро...</td>\n",
              "      <td>- Катенька иди, мы сами справимся. - [MASK] од...</td>\n",
              "      <td>сказать</td>\n",
              "    </tr>\n",
              "    <tr>\n",
              "      <th>3</th>\n",
              "      <td>Разве мог Александр Мелявский, ступая на перро...</td>\n",
              "      <td>Разве мог Александр Мелявский, ступая на перро...</td>\n",
              "      <td>&lt;said aloud='True' type='direct'&gt;- Катенька ид...</td>\n",
              "      <td>- Катенька иди, мы сами справимся. - Сказала о...</td>\n",
              "      <td>. -</td>\n",
              "      <td>, -</td>\n",
              "      <td>, -</td>\n",
              "      <td>вопроса</td>\n",
              "      <td>Разве мог Александр Мелявский, ступая на перро...</td>\n",
              "      <td>- Катенька иди, мы сами справимся. - [MASK] од...</td>\n",
              "      <td>вопрос</td>\n",
              "    </tr>\n",
              "    <tr>\n",
              "      <th>4</th>\n",
              "      <td>Разве мог Александр Мелявский, ступая на перро...</td>\n",
              "      <td>Разве мог Александр Мелявский, ступая на перро...</td>\n",
              "      <td>&lt;said aloud='True' type='direct'&gt;- Катенька ид...</td>\n",
              "      <td>- Катенька иди, мы сами справимся. - Сказала о...</td>\n",
              "      <td>поддержала её, вторая женщина. -Я подожду на у...</td>\n",
              "      <td>&lt;speech_verb semantic=\"speech\" emotion=\"neutra...</td>\n",
              "      <td>сказал Саша, закрывая дверь кабинета, и обрадо...</td>\n",
              "      <td>сказал</td>\n",
              "      <td>Разве мог Александр Мелявский, ступая на перро...</td>\n",
              "      <td>- Катенька иди, мы сами справимся. - [MASK] од...</td>\n",
              "      <td>сказать</td>\n",
              "    </tr>\n",
              "    <tr>\n",
              "      <th>...</th>\n",
              "      <td>...</td>\n",
              "      <td>...</td>\n",
              "      <td>...</td>\n",
              "      <td>...</td>\n",
              "      <td>...</td>\n",
              "      <td>...</td>\n",
              "      <td>...</td>\n",
              "      <td>...</td>\n",
              "      <td>...</td>\n",
              "      <td>...</td>\n",
              "      <td>...</td>\n",
              "    </tr>\n",
              "    <tr>\n",
              "      <th>3571</th>\n",
              "      <td>Лэло-дофи.\\n\\n&lt;speech&gt;&lt;said aloud='True' type=...</td>\n",
              "      <td>Лэло-дофи.\\n\\n-- Где я Кто я Что я -- произнес...</td>\n",
              "      <td>&lt;said aloud='True' type='direct'&gt;- Чтобы ты по...</td>\n",
              "      <td>- Чтобы ты потом вспомнила всё, и нанесла мне ...</td>\n",
              "      <td>- Чтобы ты потом вспомнила всё, и нанесла мне ...</td>\n",
              "      <td>нет уж. Лучше иметь честного врага, чем ненадё...</td>\n",
              "      <td>нет уж. Лучше иметь честного врага, чем ненадё...</td>\n",
              "      <td>скажу</td>\n",
              "      <td>Лэло-дофи.\\n\\n-- Где я Кто я Что я -- произнес...</td>\n",
              "      <td>- Чтобы ты потом вспомнила всё, и нанесла мне ...</td>\n",
              "      <td>сказать</td>\n",
              "    </tr>\n",
              "    <tr>\n",
              "      <th>3572</th>\n",
              "      <td>Лэло-дофи.\\n\\n&lt;speech&gt;&lt;said aloud='True' type=...</td>\n",
              "      <td>Лэло-дофи.\\n\\n-- Где я Кто я Что я -- произнес...</td>\n",
              "      <td>&lt;said aloud='True' type='direct'&gt;- Да, да, всё...</td>\n",
              "      <td>- Да, да, всё хорошо, лучше, чем когда-либо, -...</td>\n",
              "      <td>- Да, да, всё хорошо, лучше, чем когда-либо</td>\n",
              "      <td>поспешно &lt;speech_verb semantic=\"speech\" emotio...</td>\n",
              "      <td>поспешно произнесла я.</td>\n",
              "      <td>произнесла</td>\n",
              "      <td>Лэло-дофи.\\n\\n-- Где я Кто я Что я -- произнес...</td>\n",
              "      <td>- Да, да, всё хорошо, лучше, чем когда-либо, -...</td>\n",
              "      <td>произнести</td>\n",
              "    </tr>\n",
              "    <tr>\n",
              "      <th>3573</th>\n",
              "      <td>Мы с опаской заглянули в комнату, в комнате бы...</td>\n",
              "      <td>Мы с опаской заглянули в комнату, в комнате бы...</td>\n",
              "      <td>&lt;said aloud='True' type='direct'&gt;-Валь, ну сер...</td>\n",
              "      <td>-Валь, ну серьезно, это...это бред! Во-первых,...</td>\n",
              "      <td>-Валь, ну серьезно, это...это бред! Во-первых,...</td>\n",
              "      <td>куда они жрут Во что У них не работает пищевар...</td>\n",
              "      <td>куда они жрут Во что У них не работает пищевар...</td>\n",
              "      <td>говорил</td>\n",
              "      <td>Мы с опаской заглянули в комнату, в комнате бы...</td>\n",
              "      <td>-Валь, ну серьезно, это...это бред! Во-первых,...</td>\n",
              "      <td>говорить</td>\n",
              "    </tr>\n",
              "    <tr>\n",
              "      <th>3574</th>\n",
              "      <td>Седой старик провожал грустным взглядом своё ...</td>\n",
              "      <td>Седой старик провожал грустным взглядом своё ...</td>\n",
              "      <td>&lt;said aloud='True' type='direct'&gt;-- Фи-и-ил, р...</td>\n",
              "      <td>-- Фи-и-ил, родненький мой... -- прошептала не...</td>\n",
              "      <td>-- Фи-и-ил, родненький мой..</td>\n",
              "      <td>&lt;speech_verb semantic=\"speech\" emotion=\"quiet\"...</td>\n",
              "      <td>прошептала несчастная, узнав его черты - Что с...</td>\n",
              "      <td>прошептала</td>\n",
              "      <td>Седой старик провожал грустным взглядом своё ...</td>\n",
              "      <td>-- Фи-и-ил, родненький мой... -- [MASK] несчас...</td>\n",
              "      <td>прошептать</td>\n",
              "    </tr>\n",
              "    <tr>\n",
              "      <th>3575</th>\n",
              "      <td>Наверное, я уснула, потому что теплые грезы о ...</td>\n",
              "      <td>Наверное, я уснула, потому что теплые грезы о ...</td>\n",
              "      <td>&lt;said aloud='True' type='direct'&gt;-Так вот они ...</td>\n",
              "      <td>-Так вот они все куда делись, - прошептала Яна.</td>\n",
              "      <td>-Так вот они все куда делись</td>\n",
              "      <td>&lt;speech_verb semantic=\"speech\" emotion=\"quiet\"...</td>\n",
              "      <td>прошептала Яна.</td>\n",
              "      <td>прошептала</td>\n",
              "      <td>Наверное, я уснула, потому что теплые грезы о ...</td>\n",
              "      <td>-Так вот они все куда делись, - [MASK] Яна.</td>\n",
              "      <td>прошептать</td>\n",
              "    </tr>\n",
              "  </tbody>\n",
              "</table>\n",
              "<p>3576 rows × 11 columns</p>\n",
              "</div>\n",
              "      <button class=\"colab-df-convert\" onclick=\"convertToInteractive('df-ce4e2f9d-a37f-4b11-afc3-5f4e1a39114e')\"\n",
              "              title=\"Convert this dataframe to an interactive table.\"\n",
              "              style=\"display:none;\">\n",
              "        \n",
              "  <svg xmlns=\"http://www.w3.org/2000/svg\" height=\"24px\"viewBox=\"0 0 24 24\"\n",
              "       width=\"24px\">\n",
              "    <path d=\"M0 0h24v24H0V0z\" fill=\"none\"/>\n",
              "    <path d=\"M18.56 5.44l.94 2.06.94-2.06 2.06-.94-2.06-.94-.94-2.06-.94 2.06-2.06.94zm-11 1L8.5 8.5l.94-2.06 2.06-.94-2.06-.94L8.5 2.5l-.94 2.06-2.06.94zm10 10l.94 2.06.94-2.06 2.06-.94-2.06-.94-.94-2.06-.94 2.06-2.06.94z\"/><path d=\"M17.41 7.96l-1.37-1.37c-.4-.4-.92-.59-1.43-.59-.52 0-1.04.2-1.43.59L10.3 9.45l-7.72 7.72c-.78.78-.78 2.05 0 2.83L4 21.41c.39.39.9.59 1.41.59.51 0 1.02-.2 1.41-.59l7.78-7.78 2.81-2.81c.8-.78.8-2.07 0-2.86zM5.41 20L4 18.59l7.72-7.72 1.47 1.35L5.41 20z\"/>\n",
              "  </svg>\n",
              "      </button>\n",
              "      \n",
              "  <style>\n",
              "    .colab-df-container {\n",
              "      display:flex;\n",
              "      flex-wrap:wrap;\n",
              "      gap: 12px;\n",
              "    }\n",
              "\n",
              "    .colab-df-convert {\n",
              "      background-color: #E8F0FE;\n",
              "      border: none;\n",
              "      border-radius: 50%;\n",
              "      cursor: pointer;\n",
              "      display: none;\n",
              "      fill: #1967D2;\n",
              "      height: 32px;\n",
              "      padding: 0 0 0 0;\n",
              "      width: 32px;\n",
              "    }\n",
              "\n",
              "    .colab-df-convert:hover {\n",
              "      background-color: #E2EBFA;\n",
              "      box-shadow: 0px 1px 2px rgba(60, 64, 67, 0.3), 0px 1px 3px 1px rgba(60, 64, 67, 0.15);\n",
              "      fill: #174EA6;\n",
              "    }\n",
              "\n",
              "    [theme=dark] .colab-df-convert {\n",
              "      background-color: #3B4455;\n",
              "      fill: #D2E3FC;\n",
              "    }\n",
              "\n",
              "    [theme=dark] .colab-df-convert:hover {\n",
              "      background-color: #434B5C;\n",
              "      box-shadow: 0px 1px 3px 1px rgba(0, 0, 0, 0.15);\n",
              "      filter: drop-shadow(0px 1px 2px rgba(0, 0, 0, 0.3));\n",
              "      fill: #FFFFFF;\n",
              "    }\n",
              "  </style>\n",
              "\n",
              "      <script>\n",
              "        const buttonEl =\n",
              "          document.querySelector('#df-ce4e2f9d-a37f-4b11-afc3-5f4e1a39114e button.colab-df-convert');\n",
              "        buttonEl.style.display =\n",
              "          google.colab.kernel.accessAllowed ? 'block' : 'none';\n",
              "\n",
              "        async function convertToInteractive(key) {\n",
              "          const element = document.querySelector('#df-ce4e2f9d-a37f-4b11-afc3-5f4e1a39114e');\n",
              "          const dataTable =\n",
              "            await google.colab.kernel.invokeFunction('convertToInteractive',\n",
              "                                                     [key], {});\n",
              "          if (!dataTable) return;\n",
              "\n",
              "          const docLinkHtml = 'Like what you see? Visit the ' +\n",
              "            '<a target=\"_blank\" href=https://colab.research.google.com/notebooks/data_table.ipynb>data table notebook</a>'\n",
              "            + ' to learn more about interactive tables.';\n",
              "          element.innerHTML = '';\n",
              "          dataTable['output_type'] = 'display_data';\n",
              "          await google.colab.output.renderOutput(dataTable, element);\n",
              "          const docLink = document.createElement('div');\n",
              "          docLink.innerHTML = docLinkHtml;\n",
              "          element.appendChild(docLink);\n",
              "        }\n",
              "      </script>\n",
              "    </div>\n",
              "  </div>\n",
              "  "
            ]
          },
          "metadata": {},
          "execution_count": 7
        }
      ]
    },
    {
      "cell_type": "code",
      "source": [
        "figure(figsize=(16, 12), dpi=80)\n",
        "df['verb'].value_counts()[-10:].plot(kind='bar')\n"
      ],
      "metadata": {
        "colab": {
          "base_uri": "https://localhost:8080/",
          "height": 866
        },
        "id": "OWgdUYbDbHBv",
        "outputId": "b9653733-c8ae-4ca9-dca7-eec69bd2cbbc"
      },
      "execution_count": null,
      "outputs": [
        {
          "output_type": "execute_result",
          "data": {
            "text/plain": [
              "<matplotlib.axes._subplots.AxesSubplot at 0x7f8618a146d0>"
            ]
          },
          "metadata": {},
          "execution_count": 36
        },
        {
          "output_type": "display_data",
          "data": {
            "text/plain": [
              "<Figure size 1280x960 with 1 Axes>"
            ],
            "image/png": "[encoded data removed]"
          },
          "metadata": {
            "needs_background": "light"
          }
        }
      ]
    },
    {
      "cell_type": "code",
      "source": [
        "df['verb'].value_counts()[-30:]"
      ],
      "metadata": {
        "colab": {
          "base_uri": "https://localhost:8080/"
        },
        "id": "3EeIsKePhAWN",
        "outputId": "4ae57ec9-5fc7-496a-c492-2af7e95b2d2f"
      },
      "execution_count": null,
      "outputs": [
        {
          "output_type": "execute_result",
          "data": {
            "text/plain": [
              "заговорила      1\n",
              "расскажите      1\n",
              "нахмурилась     1\n",
              "заторопился     1\n",
              "доложу          1\n",
              "решит           1\n",
              "ответь          1\n",
              "соглашаясь      1\n",
              "раздаётся       1\n",
              "проговорить     1\n",
              "подумаем        1\n",
              "заторопилась    1\n",
              "произнеся       1\n",
              "вздыхает        1\n",
              "спросили        1\n",
              "обиделся        1\n",
              "окликнула       1\n",
              "огрызается      1\n",
              "поддакнули      1\n",
              "объявив         1\n",
              "подумает        1\n",
              "скажут          1\n",
              "захохотал       1\n",
              "подумать        1\n",
              "спрашивала      1\n",
              "голося          1\n",
              "протянутая      1\n",
              "вымолвить       1\n",
              "рассказывают    1\n",
              "возглас         1\n",
              "Name: verb, dtype: int64"
            ]
          },
          "metadata": {},
          "execution_count": 37
        }
      ]
    },
    {
      "cell_type": "code",
      "source": [
        "# Creating a dictionary using value_counts()\n",
        "items = df['verb_lemma'].value_counts().to_dict().items()\n",
        "\n",
        "# Filtering only those rows where duplicate entries occur more than n\n",
        "n = 20 \n",
        "df_new = df[df['verb_lemma'].isin([key for key, val in items if val > n])]"
      ],
      "metadata": {
        "id": "1Kz0cK87uPBV"
      },
      "execution_count": null,
      "outputs": []
    },
    {
      "cell_type": "code",
      "source": [
        "df_new['length_ds'] = df_new['clean_direct_speech'].apply(lambda x: len(x))"
      ],
      "metadata": {
        "colab": {
          "base_uri": "https://localhost:8080/"
        },
        "id": "4hcisqrvtENF",
        "outputId": "ef4fa8d0-a74f-47d9-8651-227bb848b326"
      },
      "execution_count": null,
      "outputs": [
        {
          "output_type": "stream",
          "name": "stderr",
          "text": [
            "/usr/local/lib/python3.7/dist-packages/ipykernel_launcher.py:1: SettingWithCopyWarning: \n",
            "A value is trying to be set on a copy of a slice from a DataFrame.\n",
            "Try using .loc[row_indexer,col_indexer] = value instead\n",
            "\n",
            "See the caveats in the documentation: https://pandas.pydata.org/pandas-docs/stable/user_guide/indexing.html#returning-a-view-versus-a-copy\n",
            "  \"\"\"Entry point for launching an IPython kernel.\n"
          ]
        }
      ]
    },
    {
      "cell_type": "code",
      "source": [
        "df_new = df_new[df_new['verb_lemma'] != 'вопрос']"
      ],
      "metadata": {
        "id": "nDKU8JLYusPF"
      },
      "execution_count": null,
      "outputs": []
    },
    {
      "cell_type": "code",
      "source": [
        "df_new['verb_lemma'].value_counts()"
      ],
      "metadata": {
        "colab": {
          "base_uri": "https://localhost:8080/"
        },
        "id": "CCssev_iubKY",
        "outputId": "c7a86261-6170-43d6-a478-44343bb84eba"
      },
      "execution_count": null,
      "outputs": [
        {
          "output_type": "execute_result",
          "data": {
            "text/plain": [
              "сказать         669\n",
              "ответить        505\n",
              "произнести      256\n",
              "говорить        153\n",
              "улыбнуться       92\n",
              "спросить         86\n",
              "воскликнуть      85\n",
              "заметить         83\n",
              "крикнуть         82\n",
              "прошептать       76\n",
              "думать           67\n",
              "проговорить      59\n",
              "согласиться      56\n",
              "начать           55\n",
              "подумать         54\n",
              "отвечать         51\n",
              "заявить          50\n",
              "предложить       44\n",
              "продолжать       42\n",
              "добавить         41\n",
              "протянуть        41\n",
              "начало           39\n",
              "вздохнуть        38\n",
              "закричать        38\n",
              "отозваться       35\n",
              "кричать          33\n",
              "усмехнуться      33\n",
              "решить           31\n",
              "пробормотать     31\n",
              "пояснить         31\n",
              "возразить        27\n",
              "продолжить       25\n",
              "рассказать       24\n",
              "рассказывать     23\n",
              "повторить        23\n",
              "вспомнить        22\n",
              "Name: verb_lemma, dtype: int64"
            ]
          },
          "metadata": {},
          "execution_count": 66
        }
      ]
    },
    {
      "cell_type": "code",
      "source": [
        "mean_len = df_new.groupby('verb_lemma')['length_ds'].mean().sort_values(ascending=False)[-20:]"
      ],
      "metadata": {
        "id": "ZulPAdBrrQ6q"
      },
      "execution_count": null,
      "outputs": []
    },
    {
      "cell_type": "code",
      "source": [
        "figure(figsize=(16, 12), dpi=80)\n",
        "\n",
        "mean_len.plot(kind='bar')"
      ],
      "metadata": {
        "colab": {
          "base_uri": "https://localhost:8080/",
          "height": 881
        },
        "id": "zvyLyt6-tmwn",
        "outputId": "176205fa-d87f-4114-e5c7-13e8f5d70534"
      },
      "execution_count": null,
      "outputs": [
        {
          "output_type": "execute_result",
          "data": {
            "text/plain": [
              "<matplotlib.axes._subplots.AxesSubplot at 0x7f8617dd59d0>"
            ]
          },
          "metadata": {},
          "execution_count": 71
        },
        {
          "output_type": "display_data",
          "data": {
            "text/plain": [
              "<Figure size 1280x960 with 1 Axes>"
            ],
            "image/png": "[encoded data removed]"
          },
          "metadata": {
            "needs_background": "light"
          }
        }
      ]
    },
    {
      "cell_type": "code",
      "source": [
        "df_new.groupby('verb_lemma')['length_ds'].mean().sort_values(ascending=False)[-20:]"
      ],
      "metadata": {
        "colab": {
          "base_uri": "https://localhost:8080/"
        },
        "id": "NXXFKEaRveBm",
        "outputId": "b29c19ad-7655-40b9-eee9-4734d0087c25"
      },
      "execution_count": null,
      "outputs": [
        {
          "output_type": "execute_result",
          "data": {
            "text/plain": [
              "verb_lemma\n",
              "добавить        145.243902\n",
              "произнести      143.488281\n",
              "сказать         142.895366\n",
              "согласиться     140.267857\n",
              "заявить         137.380000\n",
              "предложить      128.295455\n",
              "пояснить        125.387097\n",
              "усмехнуться     123.424242\n",
              "закричать       123.394737\n",
              "вздохнуть       118.894737\n",
              "улыбнуться      116.358696\n",
              "кричать         113.363636\n",
              "возразить       113.296296\n",
              "пробормотать    113.129032\n",
              "ответить        112.598020\n",
              "прошептать      106.802632\n",
              "воскликнуть     105.152941\n",
              "отвечать        103.529412\n",
              "крикнуть        101.817073\n",
              "проговорить      93.745763\n",
              "Name: length_ds, dtype: float64"
            ]
          },
          "metadata": {},
          "execution_count": 69
        }
      ]
    },
    {
      "cell_type": "code",
      "source": [
        "figure(figsize=(16, 12), dpi=80)\n",
        "\n",
        "plt.plot(x,y)"
      ],
      "metadata": {
        "colab": {
          "base_uri": "https://localhost:8080/",
          "height": 792
        },
        "id": "flOGPIp8Pu_b",
        "outputId": "84fef364-fb55-441b-d12a-c83a33b7079d"
      },
      "execution_count": null,
      "outputs": [
        {
          "output_type": "execute_result",
          "data": {
            "text/plain": [
              "[<matplotlib.lines.Line2D at 0x7f8617d1c7d0>]"
            ]
          },
          "metadata": {},
          "execution_count": 79
        },
        {
          "output_type": "display_data",
          "data": {
            "text/plain": [
              "<Figure size 1280x960 with 1 Axes>"
            ],
            "image/png": "[encoded data removed]"
          },
          "metadata": {
            "needs_background": "light"
          }
        }
      ]
    },
    {
      "cell_type": "code",
      "source": [
        "# plot losses for classification\n",
        "\n",
        "x = [1, 2, 3, 4, 5, 6]\n",
        "tr_y = [3.046, 0.792, 0.297, 0.185, 0.142, 0.132]\n",
        "val_y = [0.866, 0.209, 0.079, 0.057, 0.046, 0.053]"
      ],
      "metadata": {
        "id": "gSV-1BUAcOX2"
      },
      "execution_count": null,
      "outputs": []
    },
    {
      "cell_type": "code",
      "source": [
        "figure(figsize=(16, 12), dpi=80)\n",
        "\n",
        "plt.plot(x,tr_y)\n",
        "plt.plot(x,val_y)"
      ],
      "metadata": {
        "id": "UmXLNrzrdM9E",
        "outputId": "baa80709-edfc-4cde-d273-9b5c43e7c1ba",
        "colab": {
          "base_uri": "https://localhost:8080/",
          "height": 792
        }
      },
      "execution_count": null,
      "outputs": [
        {
          "output_type": "execute_result",
          "data": {
            "text/plain": [
              "[<matplotlib.lines.Line2D at 0x7f86178e5d10>]"
            ]
          },
          "metadata": {},
          "execution_count": 81
        },
        {
          "output_type": "display_data",
          "data": {
            "text/plain": [
              "<Figure size 1280x960 with 1 Axes>"
            ],
            "image/png": "[encoded data removed]"
          },
          "metadata": {
            "needs_background": "light"
          }
        }
      ]
    }
  ]
}